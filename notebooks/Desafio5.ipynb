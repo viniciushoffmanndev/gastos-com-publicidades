{
 "cells": [
  {
   "metadata": {
    "id": "6luOAs0YBvvF"
   },
   "cell_type": "markdown",
   "source": [
    "#DESAFIO 5: PREPERE SEU DATASET PARA MODELAGEM PARA DADOS\n",
    "  - Aplique os conhecimentos de limpeza e organização de dados (cleaning & data wrangling) para estruturar uma base de dados para modelagem.\n",
    "\n",
    "#PROPOSTA\n",
    "- R (Recenty) Tempo que o cliente realizou a ultima compra (em dias)\n",
    "- F (Frequency) Quantidade de compras realizadas pelo cliente\n",
    "- M (Monetary) Valor do ticket médio gasto pelo cliente, onde ticket médio = médio do total gasto por pedido para cada cliente.\n",
    "\n",
    "#DESENVOLVA\n",
    " - UM CÓDIGO EM PYTHON QUE GERA UM OUTPUT EM .CSV CONTENDO  APENAS: IDENTIFICAÇÃO DO CLIENTE E MÉTRICAS RFM."
   ]
  },
  {
   "cell_type": "markdown",
   "metadata": {
    "id": "ek4LLCGGTnrD"
   },
   "source": [
    "**INICIANDO DESENVOLVIMENTO DO PROJETO**\n",
    " - CARREGANDO BIBLIOTECAS QUE SERÃO UTILIZADAS PARA ANALISES DOS DADOS"
   ]
  },
  {
   "cell_type": "code",
   "metadata": {
    "id": "UkxmOgAAVjBR",
    "ExecuteTime": {
     "end_time": "2025-06-20T00:49:06.348431Z",
     "start_time": "2025-06-20T00:49:06.343426Z"
    }
   },
   "source": [
    "import os.path\n",
    "\n",
    "import numpy as np\n",
    "import pandas as pd\n",
    "#INSTALAR !pip install pandas-profiling==3.3.0 ANTES PARA PODER USÁ-LO, caso precise!\n",
    "#from pandas_profiling import ProfileReport\n",
    "\n",
    "\n",
    "import seaborn as sns\n",
    "import matplotlib.pyplot as plt\n",
    "from datetime import datetime\n",
    "from datetime import date\n",
    "from matplotlib.ticker import FuncFormatter\n",
    "from sklearn import metrics\n",
    "from sklearn.pipeline import Pipeline\n",
    "from sklearn.impute import SimpleImputer\n",
    "from sklearn.compose import ColumnTransformer\n",
    "from sklearn.preprocessing import scale, StandardScaler, OneHotEncoder, OrdinalEncoder\n"
   ],
   "outputs": [],
   "execution_count": 76
  },
  {
   "cell_type": "code",
   "metadata": {
    "id": "59S2ELRJGJ-M",
    "ExecuteTime": {
     "end_time": "2025-06-20T00:49:10.669169Z",
     "start_time": "2025-06-20T00:49:10.665035Z"
    }
   },
   "source": [
    "from sklearn import set_config\n",
    "set_config(display='diagram')"
   ],
   "outputs": [],
   "execution_count": 77
  },
  {
   "cell_type": "code",
   "metadata": {
    "colab": {
     "base_uri": "https://localhost:8080/",
     "height": 423
    },
    "id": "Ve3cmk75Xbvl",
    "outputId": "daaafaa4-8c05-42b7-fd6a-77b71c0062d4",
    "ExecuteTime": {
     "end_time": "2025-06-20T01:28:20.186345Z",
     "start_time": "2025-06-20T01:28:19.620249Z"
    }
   },
   "source": [
    "#Utilizando o ON_BAD_LINES='SKIP' para pular as linhas com erro na base de dados, caso precise usar, isso evita o erro de tokenization data.\n",
    "\n",
    "caminho = os.path.join('raw', 'e-commerce.csv')\n",
    "df = pd.read_csv(caminho, sep=',', quotechar='\"', on_bad_lines='skip')\n",
    "display(df)"
   ],
   "outputs": [
    {
     "data": {
      "text/plain": [
       "       InvoiceNo StockCode                          Description  Quantity  \\\n",
       "0         536365    85123A   WHITE HANGING HEART T-LIGHT HOLDER         6   \n",
       "1         536365     71053                  WHITE METAL LANTERN         6   \n",
       "2         536365    84406B       CREAM CUPID HEARTS COAT HANGER         8   \n",
       "3         536365    84029G  KNITTED UNION FLAG HOT WATER BOTTLE         6   \n",
       "4         536365    84029E       RED WOOLLY HOTTIE WHITE HEART.         6   \n",
       "...          ...       ...                                  ...       ...   \n",
       "541904    581587     22613          PACK OF 20 SPACEBOY NAPKINS        12   \n",
       "541905    581587     22899          CHILDREN'S APRON DOLLY GIRL         6   \n",
       "541906    581587     23254         CHILDRENS CUTLERY DOLLY GIRL         4   \n",
       "541907    581587     23255      CHILDRENS CUTLERY CIRCUS PARADE         4   \n",
       "541908    581587     22138         BAKING SET 9 PIECE RETROSPOT         3   \n",
       "\n",
       "            InvoiceDate  UnitPrice  CustomerID         Country  \n",
       "0       12/1/2010 08:26       2.55     17850.0  United Kingdom  \n",
       "1       12/1/2010 08:26       3.39     17850.0  United Kingdom  \n",
       "2       12/1/2010 08:26       2.75     17850.0  United Kingdom  \n",
       "3       12/1/2010 08:26       3.39     17850.0  United Kingdom  \n",
       "4       12/1/2010 08:26       3.39     17850.0  United Kingdom  \n",
       "...                 ...        ...         ...             ...  \n",
       "541904  12/9/2011 12:50       0.85     12680.0          France  \n",
       "541905  12/9/2011 12:50       2.10     12680.0          France  \n",
       "541906  12/9/2011 12:50       4.15     12680.0          France  \n",
       "541907  12/9/2011 12:50       4.15     12680.0          France  \n",
       "541908  12/9/2011 12:50       4.95     12680.0          France  \n",
       "\n",
       "[541909 rows x 8 columns]"
      ],
      "text/html": [
       "<div>\n",
       "<style scoped>\n",
       "    .dataframe tbody tr th:only-of-type {\n",
       "        vertical-align: middle;\n",
       "    }\n",
       "\n",
       "    .dataframe tbody tr th {\n",
       "        vertical-align: top;\n",
       "    }\n",
       "\n",
       "    .dataframe thead th {\n",
       "        text-align: right;\n",
       "    }\n",
       "</style>\n",
       "<table border=\"1\" class=\"dataframe\">\n",
       "  <thead>\n",
       "    <tr style=\"text-align: right;\">\n",
       "      <th></th>\n",
       "      <th>InvoiceNo</th>\n",
       "      <th>StockCode</th>\n",
       "      <th>Description</th>\n",
       "      <th>Quantity</th>\n",
       "      <th>InvoiceDate</th>\n",
       "      <th>UnitPrice</th>\n",
       "      <th>CustomerID</th>\n",
       "      <th>Country</th>\n",
       "    </tr>\n",
       "  </thead>\n",
       "  <tbody>\n",
       "    <tr>\n",
       "      <th>0</th>\n",
       "      <td>536365</td>\n",
       "      <td>85123A</td>\n",
       "      <td>WHITE HANGING HEART T-LIGHT HOLDER</td>\n",
       "      <td>6</td>\n",
       "      <td>12/1/2010 08:26</td>\n",
       "      <td>2.55</td>\n",
       "      <td>17850.0</td>\n",
       "      <td>United Kingdom</td>\n",
       "    </tr>\n",
       "    <tr>\n",
       "      <th>1</th>\n",
       "      <td>536365</td>\n",
       "      <td>71053</td>\n",
       "      <td>WHITE METAL LANTERN</td>\n",
       "      <td>6</td>\n",
       "      <td>12/1/2010 08:26</td>\n",
       "      <td>3.39</td>\n",
       "      <td>17850.0</td>\n",
       "      <td>United Kingdom</td>\n",
       "    </tr>\n",
       "    <tr>\n",
       "      <th>2</th>\n",
       "      <td>536365</td>\n",
       "      <td>84406B</td>\n",
       "      <td>CREAM CUPID HEARTS COAT HANGER</td>\n",
       "      <td>8</td>\n",
       "      <td>12/1/2010 08:26</td>\n",
       "      <td>2.75</td>\n",
       "      <td>17850.0</td>\n",
       "      <td>United Kingdom</td>\n",
       "    </tr>\n",
       "    <tr>\n",
       "      <th>3</th>\n",
       "      <td>536365</td>\n",
       "      <td>84029G</td>\n",
       "      <td>KNITTED UNION FLAG HOT WATER BOTTLE</td>\n",
       "      <td>6</td>\n",
       "      <td>12/1/2010 08:26</td>\n",
       "      <td>3.39</td>\n",
       "      <td>17850.0</td>\n",
       "      <td>United Kingdom</td>\n",
       "    </tr>\n",
       "    <tr>\n",
       "      <th>4</th>\n",
       "      <td>536365</td>\n",
       "      <td>84029E</td>\n",
       "      <td>RED WOOLLY HOTTIE WHITE HEART.</td>\n",
       "      <td>6</td>\n",
       "      <td>12/1/2010 08:26</td>\n",
       "      <td>3.39</td>\n",
       "      <td>17850.0</td>\n",
       "      <td>United Kingdom</td>\n",
       "    </tr>\n",
       "    <tr>\n",
       "      <th>...</th>\n",
       "      <td>...</td>\n",
       "      <td>...</td>\n",
       "      <td>...</td>\n",
       "      <td>...</td>\n",
       "      <td>...</td>\n",
       "      <td>...</td>\n",
       "      <td>...</td>\n",
       "      <td>...</td>\n",
       "    </tr>\n",
       "    <tr>\n",
       "      <th>541904</th>\n",
       "      <td>581587</td>\n",
       "      <td>22613</td>\n",
       "      <td>PACK OF 20 SPACEBOY NAPKINS</td>\n",
       "      <td>12</td>\n",
       "      <td>12/9/2011 12:50</td>\n",
       "      <td>0.85</td>\n",
       "      <td>12680.0</td>\n",
       "      <td>France</td>\n",
       "    </tr>\n",
       "    <tr>\n",
       "      <th>541905</th>\n",
       "      <td>581587</td>\n",
       "      <td>22899</td>\n",
       "      <td>CHILDREN'S APRON DOLLY GIRL</td>\n",
       "      <td>6</td>\n",
       "      <td>12/9/2011 12:50</td>\n",
       "      <td>2.10</td>\n",
       "      <td>12680.0</td>\n",
       "      <td>France</td>\n",
       "    </tr>\n",
       "    <tr>\n",
       "      <th>541906</th>\n",
       "      <td>581587</td>\n",
       "      <td>23254</td>\n",
       "      <td>CHILDRENS CUTLERY DOLLY GIRL</td>\n",
       "      <td>4</td>\n",
       "      <td>12/9/2011 12:50</td>\n",
       "      <td>4.15</td>\n",
       "      <td>12680.0</td>\n",
       "      <td>France</td>\n",
       "    </tr>\n",
       "    <tr>\n",
       "      <th>541907</th>\n",
       "      <td>581587</td>\n",
       "      <td>23255</td>\n",
       "      <td>CHILDRENS CUTLERY CIRCUS PARADE</td>\n",
       "      <td>4</td>\n",
       "      <td>12/9/2011 12:50</td>\n",
       "      <td>4.15</td>\n",
       "      <td>12680.0</td>\n",
       "      <td>France</td>\n",
       "    </tr>\n",
       "    <tr>\n",
       "      <th>541908</th>\n",
       "      <td>581587</td>\n",
       "      <td>22138</td>\n",
       "      <td>BAKING SET 9 PIECE RETROSPOT</td>\n",
       "      <td>3</td>\n",
       "      <td>12/9/2011 12:50</td>\n",
       "      <td>4.95</td>\n",
       "      <td>12680.0</td>\n",
       "      <td>France</td>\n",
       "    </tr>\n",
       "  </tbody>\n",
       "</table>\n",
       "<p>541909 rows × 8 columns</p>\n",
       "</div>"
      ]
     },
     "metadata": {},
     "output_type": "display_data"
    }
   ],
   "execution_count": 131
  },
  {
   "cell_type": "markdown",
   "metadata": {
    "id": "yq2sHcP5JBgU"
   },
   "source": [
    "**ETAPA 1)**\n",
    "- 2 - Utilize o describe para verificar a distribuição dos dados"
   ]
  },
  {
   "cell_type": "markdown",
   "metadata": {
    "id": "XAbfyJu-LIjk"
   },
   "source": [
    "**DESCRIBE**\n",
    "- *A função describe()* ela fornece informações importantes sobre a distribuição dos dados permitindo insights(percepções) valiosos sem a necessidade de visualizações complexas.\n",
    "- Exibe *estatíscas descritiva*, como count(número de valores não nulos), mean(média), std(desvio padrão), min(valor mínimo) e max(valor máximo).\n",
    "- *Utilidade dos quartis na segmentação(dividir algo em diferentes segmentos que possuam características similares individualmente, mas sejam distintos entre si) e compreensão dos dados:* 25% (percentil), 50% (percentil), 75% (percentil) dos valores. Essa técnica permite segmentar e compreender a distribuição dos dados por percentis, fornecendo insights valiosos para análises de negócio."
   ]
  },
  {
   "cell_type": "code",
   "metadata": {
    "colab": {
     "base_uri": "https://localhost:8080/",
     "height": 300
    },
    "id": "2tSDFNaF6uD5",
    "outputId": "a82626c4-4014-45f0-db66-7a922b505058",
    "ExecuteTime": {
     "end_time": "2025-06-20T01:28:27.003061Z",
     "start_time": "2025-06-20T01:28:26.930818Z"
    }
   },
   "source": [
    "df.describe()"
   ],
   "outputs": [
    {
     "data": {
      "text/plain": [
       "            Quantity      UnitPrice     CustomerID\n",
       "count  541909.000000  541909.000000  406829.000000\n",
       "mean        9.552250       4.611121   15287.690570\n",
       "std       218.081158      96.759853    1713.600303\n",
       "min    -80995.000000  -11062.060000   12346.000000\n",
       "25%         1.000000       1.250000   13953.000000\n",
       "50%         3.000000       2.080000   15152.000000\n",
       "75%        10.000000       4.130000   16791.000000\n",
       "max     80995.000000   38970.000000   18287.000000"
      ],
      "text/html": [
       "<div>\n",
       "<style scoped>\n",
       "    .dataframe tbody tr th:only-of-type {\n",
       "        vertical-align: middle;\n",
       "    }\n",
       "\n",
       "    .dataframe tbody tr th {\n",
       "        vertical-align: top;\n",
       "    }\n",
       "\n",
       "    .dataframe thead th {\n",
       "        text-align: right;\n",
       "    }\n",
       "</style>\n",
       "<table border=\"1\" class=\"dataframe\">\n",
       "  <thead>\n",
       "    <tr style=\"text-align: right;\">\n",
       "      <th></th>\n",
       "      <th>Quantity</th>\n",
       "      <th>UnitPrice</th>\n",
       "      <th>CustomerID</th>\n",
       "    </tr>\n",
       "  </thead>\n",
       "  <tbody>\n",
       "    <tr>\n",
       "      <th>count</th>\n",
       "      <td>541909.000000</td>\n",
       "      <td>541909.000000</td>\n",
       "      <td>406829.000000</td>\n",
       "    </tr>\n",
       "    <tr>\n",
       "      <th>mean</th>\n",
       "      <td>9.552250</td>\n",
       "      <td>4.611121</td>\n",
       "      <td>15287.690570</td>\n",
       "    </tr>\n",
       "    <tr>\n",
       "      <th>std</th>\n",
       "      <td>218.081158</td>\n",
       "      <td>96.759853</td>\n",
       "      <td>1713.600303</td>\n",
       "    </tr>\n",
       "    <tr>\n",
       "      <th>min</th>\n",
       "      <td>-80995.000000</td>\n",
       "      <td>-11062.060000</td>\n",
       "      <td>12346.000000</td>\n",
       "    </tr>\n",
       "    <tr>\n",
       "      <th>25%</th>\n",
       "      <td>1.000000</td>\n",
       "      <td>1.250000</td>\n",
       "      <td>13953.000000</td>\n",
       "    </tr>\n",
       "    <tr>\n",
       "      <th>50%</th>\n",
       "      <td>3.000000</td>\n",
       "      <td>2.080000</td>\n",
       "      <td>15152.000000</td>\n",
       "    </tr>\n",
       "    <tr>\n",
       "      <th>75%</th>\n",
       "      <td>10.000000</td>\n",
       "      <td>4.130000</td>\n",
       "      <td>16791.000000</td>\n",
       "    </tr>\n",
       "    <tr>\n",
       "      <th>max</th>\n",
       "      <td>80995.000000</td>\n",
       "      <td>38970.000000</td>\n",
       "      <td>18287.000000</td>\n",
       "    </tr>\n",
       "  </tbody>\n",
       "</table>\n",
       "</div>"
      ]
     },
     "execution_count": 132,
     "metadata": {},
     "output_type": "execute_result"
    }
   ],
   "execution_count": 132
  },
  {
   "cell_type": "markdown",
   "metadata": {
    "id": "c_w2AG39_x-J"
   },
   "source": [
    "**Etapa 1)**  \n",
    "- 3 - Analise o tipo dos dados\n",
    "\n",
    " *A função info() no Pandas exibe informações detalhadas sobre um DataFrame(df), incluindo número de linhas (entradas), tipo de dados (dtypes) de cada coluna, quantidade de dados não nulos em cada coluna e uso de memória. Isso permite rapidamente verificar se existem dados nulos, entender quais tipos de dados estão presentes (strings, numéricos, datas etc.) e identificar problemas como dados inconsistentes.*"
   ]
  },
  {
   "cell_type": "code",
   "metadata": {
    "colab": {
     "base_uri": "https://localhost:8080/"
    },
    "id": "LrEEx36kAK4H",
    "outputId": "4c469277-e2de-4cb1-a8a2-177000549257",
    "ExecuteTime": {
     "end_time": "2025-06-20T01:28:29.415182Z",
     "start_time": "2025-06-20T01:28:29.318556Z"
    }
   },
   "source": [
    "df.info()"
   ],
   "outputs": [
    {
     "name": "stdout",
     "output_type": "stream",
     "text": [
      "<class 'pandas.core.frame.DataFrame'>\n",
      "RangeIndex: 541909 entries, 0 to 541908\n",
      "Data columns (total 8 columns):\n",
      " #   Column       Non-Null Count   Dtype  \n",
      "---  ------       --------------   -----  \n",
      " 0   InvoiceNo    541909 non-null  object \n",
      " 1   StockCode    541909 non-null  object \n",
      " 2   Description  540455 non-null  object \n",
      " 3   Quantity     541909 non-null  int64  \n",
      " 4   InvoiceDate  541909 non-null  object \n",
      " 5   UnitPrice    541909 non-null  float64\n",
      " 6   CustomerID   406829 non-null  float64\n",
      " 7   Country      541909 non-null  object \n",
      "dtypes: float64(2), int64(1), object(5)\n",
      "memory usage: 33.1+ MB\n"
     ]
    }
   ],
   "execution_count": 133
  },
  {
   "cell_type": "markdown",
   "metadata": {
    "id": "-1JIHXebyA0j"
   },
   "source": [
    "**Dtype**\n",
    "- ***object**: É uma array (arranjo ou vetor) é um conjunto de dados, que pode assumir os mais diversos tipos. Array é utilizado para armazenar mais de um valor em uma única variável.*\n",
    "- ***int64**: É um formato inteiro com 64 bits ou 8 bytes  de espaço disponível.*\n",
    "- ***float64**: É um formato de número de ponto flutuante, geralmente ocupando 64 bits na memória do computador.*"
   ]
  },
  {
   "cell_type": "markdown",
   "metadata": {
    "id": "s_hhCIbOeXhA"
   },
   "source": [
    "#Etapa 02) Valores faltantes na identificação do cliente\n"
   ]
  },
  {
   "cell_type": "markdown",
   "metadata": {
    "id": "5qjloxc8egx7"
   },
   "source": [
    "Etapa 2)\n",
    "- 1 - Verifique os valores nulos com o isna() e utilize a função sum() para a\n",
    "somar a quantidade de nulos\n",
    "- Critérios de Avaliação: Verifique se há valores faltantes na identificação do cliente\n",
    "\n"
   ]
  },
  {
   "cell_type": "code",
   "metadata": {
    "colab": {
     "base_uri": "https://localhost:8080/",
     "height": 335
    },
    "id": "KwswKHjLLSac",
    "outputId": "de3a4fda-a418-42df-d141-a5aefe01bca4",
    "ExecuteTime": {
     "end_time": "2025-06-20T01:28:31.996038Z",
     "start_time": "2025-06-20T01:28:31.903541Z"
    }
   },
   "source": [
    "df.isna().sum()"
   ],
   "outputs": [
    {
     "data": {
      "text/plain": [
       "InvoiceNo           0\n",
       "StockCode           0\n",
       "Description      1454\n",
       "Quantity            0\n",
       "InvoiceDate         0\n",
       "UnitPrice           0\n",
       "CustomerID     135080\n",
       "Country             0\n",
       "dtype: int64"
      ]
     },
     "execution_count": 134,
     "metadata": {},
     "output_type": "execute_result"
    }
   ],
   "execution_count": 134
  },
  {
   "cell_type": "markdown",
   "metadata": {
    "id": "tc4UbE2YfB--"
   },
   "source": [
    "Etapa 2)\n",
    "- 2 - Utilize a função dropna para remover os nulos\n"
   ]
  },
  {
   "cell_type": "code",
   "metadata": {
    "colab": {
     "base_uri": "https://localhost:8080/",
     "height": 423
    },
    "id": "D58PH7qUfBe-",
    "outputId": "db13f1dc-b3ec-490c-ab9f-5cb150016954",
    "ExecuteTime": {
     "end_time": "2025-06-20T01:28:34.420717Z",
     "start_time": "2025-06-20T01:28:34.300907Z"
    }
   },
   "source": [
    "df.dropna()"
   ],
   "outputs": [
    {
     "data": {
      "text/plain": [
       "       InvoiceNo StockCode                          Description  Quantity  \\\n",
       "0         536365    85123A   WHITE HANGING HEART T-LIGHT HOLDER         6   \n",
       "1         536365     71053                  WHITE METAL LANTERN         6   \n",
       "2         536365    84406B       CREAM CUPID HEARTS COAT HANGER         8   \n",
       "3         536365    84029G  KNITTED UNION FLAG HOT WATER BOTTLE         6   \n",
       "4         536365    84029E       RED WOOLLY HOTTIE WHITE HEART.         6   \n",
       "...          ...       ...                                  ...       ...   \n",
       "541904    581587     22613          PACK OF 20 SPACEBOY NAPKINS        12   \n",
       "541905    581587     22899          CHILDREN'S APRON DOLLY GIRL         6   \n",
       "541906    581587     23254         CHILDRENS CUTLERY DOLLY GIRL         4   \n",
       "541907    581587     23255      CHILDRENS CUTLERY CIRCUS PARADE         4   \n",
       "541908    581587     22138         BAKING SET 9 PIECE RETROSPOT         3   \n",
       "\n",
       "            InvoiceDate  UnitPrice  CustomerID         Country  \n",
       "0       12/1/2010 08:26       2.55     17850.0  United Kingdom  \n",
       "1       12/1/2010 08:26       3.39     17850.0  United Kingdom  \n",
       "2       12/1/2010 08:26       2.75     17850.0  United Kingdom  \n",
       "3       12/1/2010 08:26       3.39     17850.0  United Kingdom  \n",
       "4       12/1/2010 08:26       3.39     17850.0  United Kingdom  \n",
       "...                 ...        ...         ...             ...  \n",
       "541904  12/9/2011 12:50       0.85     12680.0          France  \n",
       "541905  12/9/2011 12:50       2.10     12680.0          France  \n",
       "541906  12/9/2011 12:50       4.15     12680.0          France  \n",
       "541907  12/9/2011 12:50       4.15     12680.0          France  \n",
       "541908  12/9/2011 12:50       4.95     12680.0          France  \n",
       "\n",
       "[406829 rows x 8 columns]"
      ],
      "text/html": [
       "<div>\n",
       "<style scoped>\n",
       "    .dataframe tbody tr th:only-of-type {\n",
       "        vertical-align: middle;\n",
       "    }\n",
       "\n",
       "    .dataframe tbody tr th {\n",
       "        vertical-align: top;\n",
       "    }\n",
       "\n",
       "    .dataframe thead th {\n",
       "        text-align: right;\n",
       "    }\n",
       "</style>\n",
       "<table border=\"1\" class=\"dataframe\">\n",
       "  <thead>\n",
       "    <tr style=\"text-align: right;\">\n",
       "      <th></th>\n",
       "      <th>InvoiceNo</th>\n",
       "      <th>StockCode</th>\n",
       "      <th>Description</th>\n",
       "      <th>Quantity</th>\n",
       "      <th>InvoiceDate</th>\n",
       "      <th>UnitPrice</th>\n",
       "      <th>CustomerID</th>\n",
       "      <th>Country</th>\n",
       "    </tr>\n",
       "  </thead>\n",
       "  <tbody>\n",
       "    <tr>\n",
       "      <th>0</th>\n",
       "      <td>536365</td>\n",
       "      <td>85123A</td>\n",
       "      <td>WHITE HANGING HEART T-LIGHT HOLDER</td>\n",
       "      <td>6</td>\n",
       "      <td>12/1/2010 08:26</td>\n",
       "      <td>2.55</td>\n",
       "      <td>17850.0</td>\n",
       "      <td>United Kingdom</td>\n",
       "    </tr>\n",
       "    <tr>\n",
       "      <th>1</th>\n",
       "      <td>536365</td>\n",
       "      <td>71053</td>\n",
       "      <td>WHITE METAL LANTERN</td>\n",
       "      <td>6</td>\n",
       "      <td>12/1/2010 08:26</td>\n",
       "      <td>3.39</td>\n",
       "      <td>17850.0</td>\n",
       "      <td>United Kingdom</td>\n",
       "    </tr>\n",
       "    <tr>\n",
       "      <th>2</th>\n",
       "      <td>536365</td>\n",
       "      <td>84406B</td>\n",
       "      <td>CREAM CUPID HEARTS COAT HANGER</td>\n",
       "      <td>8</td>\n",
       "      <td>12/1/2010 08:26</td>\n",
       "      <td>2.75</td>\n",
       "      <td>17850.0</td>\n",
       "      <td>United Kingdom</td>\n",
       "    </tr>\n",
       "    <tr>\n",
       "      <th>3</th>\n",
       "      <td>536365</td>\n",
       "      <td>84029G</td>\n",
       "      <td>KNITTED UNION FLAG HOT WATER BOTTLE</td>\n",
       "      <td>6</td>\n",
       "      <td>12/1/2010 08:26</td>\n",
       "      <td>3.39</td>\n",
       "      <td>17850.0</td>\n",
       "      <td>United Kingdom</td>\n",
       "    </tr>\n",
       "    <tr>\n",
       "      <th>4</th>\n",
       "      <td>536365</td>\n",
       "      <td>84029E</td>\n",
       "      <td>RED WOOLLY HOTTIE WHITE HEART.</td>\n",
       "      <td>6</td>\n",
       "      <td>12/1/2010 08:26</td>\n",
       "      <td>3.39</td>\n",
       "      <td>17850.0</td>\n",
       "      <td>United Kingdom</td>\n",
       "    </tr>\n",
       "    <tr>\n",
       "      <th>...</th>\n",
       "      <td>...</td>\n",
       "      <td>...</td>\n",
       "      <td>...</td>\n",
       "      <td>...</td>\n",
       "      <td>...</td>\n",
       "      <td>...</td>\n",
       "      <td>...</td>\n",
       "      <td>...</td>\n",
       "    </tr>\n",
       "    <tr>\n",
       "      <th>541904</th>\n",
       "      <td>581587</td>\n",
       "      <td>22613</td>\n",
       "      <td>PACK OF 20 SPACEBOY NAPKINS</td>\n",
       "      <td>12</td>\n",
       "      <td>12/9/2011 12:50</td>\n",
       "      <td>0.85</td>\n",
       "      <td>12680.0</td>\n",
       "      <td>France</td>\n",
       "    </tr>\n",
       "    <tr>\n",
       "      <th>541905</th>\n",
       "      <td>581587</td>\n",
       "      <td>22899</td>\n",
       "      <td>CHILDREN'S APRON DOLLY GIRL</td>\n",
       "      <td>6</td>\n",
       "      <td>12/9/2011 12:50</td>\n",
       "      <td>2.10</td>\n",
       "      <td>12680.0</td>\n",
       "      <td>France</td>\n",
       "    </tr>\n",
       "    <tr>\n",
       "      <th>541906</th>\n",
       "      <td>581587</td>\n",
       "      <td>23254</td>\n",
       "      <td>CHILDRENS CUTLERY DOLLY GIRL</td>\n",
       "      <td>4</td>\n",
       "      <td>12/9/2011 12:50</td>\n",
       "      <td>4.15</td>\n",
       "      <td>12680.0</td>\n",
       "      <td>France</td>\n",
       "    </tr>\n",
       "    <tr>\n",
       "      <th>541907</th>\n",
       "      <td>581587</td>\n",
       "      <td>23255</td>\n",
       "      <td>CHILDRENS CUTLERY CIRCUS PARADE</td>\n",
       "      <td>4</td>\n",
       "      <td>12/9/2011 12:50</td>\n",
       "      <td>4.15</td>\n",
       "      <td>12680.0</td>\n",
       "      <td>France</td>\n",
       "    </tr>\n",
       "    <tr>\n",
       "      <th>541908</th>\n",
       "      <td>581587</td>\n",
       "      <td>22138</td>\n",
       "      <td>BAKING SET 9 PIECE RETROSPOT</td>\n",
       "      <td>3</td>\n",
       "      <td>12/9/2011 12:50</td>\n",
       "      <td>4.95</td>\n",
       "      <td>12680.0</td>\n",
       "      <td>France</td>\n",
       "    </tr>\n",
       "  </tbody>\n",
       "</table>\n",
       "<p>406829 rows × 8 columns</p>\n",
       "</div>"
      ]
     },
     "execution_count": 135,
     "metadata": {},
     "output_type": "execute_result"
    }
   ],
   "execution_count": 135
  },
  {
   "cell_type": "markdown",
   "metadata": {
    "id": "5A3HW0yUjKjA"
   },
   "source": [
    "#Etapa 03) Preços unitários e quantidade de produtos iguais ou inferior a 0"
   ]
  },
  {
   "cell_type": "markdown",
   "metadata": {
    "id": "r2Jl5WeYjsYU"
   },
   "source": [
    "Etapa 3)\n",
    "- 1 - Realize um filtro para verificar se existem dados nulos ou menor que\n",
    "zero na coluna de preços\n",
    "- CRITÉRIO DE AVALIAÇÃO: Verifique se há produtos com quantidade igual ou inferior a 0"
   ]
  },
  {
   "cell_type": "code",
   "metadata": {
    "colab": {
     "base_uri": "https://localhost:8080/",
     "height": 112
    },
    "id": "LSl1jyxmak8B",
    "outputId": "7eb56183-ec66-4ee3-b75b-fc304ad2092f",
    "ExecuteTime": {
     "end_time": "2025-06-20T01:28:36.662622Z",
     "start_time": "2025-06-20T01:28:36.652970Z"
    }
   },
   "source": [
    "#1 - Realize um filtro para verificar se existem dados nulos ou menor que zero na coluna de preços\n",
    "df[(df['UnitPrice'].isnull()) | (df['UnitPrice'] < 0)]"
   ],
   "outputs": [
    {
     "data": {
      "text/plain": [
       "       InvoiceNo StockCode      Description  Quantity      InvoiceDate  \\\n",
       "299983   A563186         B  Adjust bad debt         1  8/12/2011 14:51   \n",
       "299984   A563187         B  Adjust bad debt         1  8/12/2011 14:52   \n",
       "\n",
       "        UnitPrice  CustomerID         Country  \n",
       "299983  -11062.06         NaN  United Kingdom  \n",
       "299984  -11062.06         NaN  United Kingdom  "
      ],
      "text/html": [
       "<div>\n",
       "<style scoped>\n",
       "    .dataframe tbody tr th:only-of-type {\n",
       "        vertical-align: middle;\n",
       "    }\n",
       "\n",
       "    .dataframe tbody tr th {\n",
       "        vertical-align: top;\n",
       "    }\n",
       "\n",
       "    .dataframe thead th {\n",
       "        text-align: right;\n",
       "    }\n",
       "</style>\n",
       "<table border=\"1\" class=\"dataframe\">\n",
       "  <thead>\n",
       "    <tr style=\"text-align: right;\">\n",
       "      <th></th>\n",
       "      <th>InvoiceNo</th>\n",
       "      <th>StockCode</th>\n",
       "      <th>Description</th>\n",
       "      <th>Quantity</th>\n",
       "      <th>InvoiceDate</th>\n",
       "      <th>UnitPrice</th>\n",
       "      <th>CustomerID</th>\n",
       "      <th>Country</th>\n",
       "    </tr>\n",
       "  </thead>\n",
       "  <tbody>\n",
       "    <tr>\n",
       "      <th>299983</th>\n",
       "      <td>A563186</td>\n",
       "      <td>B</td>\n",
       "      <td>Adjust bad debt</td>\n",
       "      <td>1</td>\n",
       "      <td>8/12/2011 14:51</td>\n",
       "      <td>-11062.06</td>\n",
       "      <td>NaN</td>\n",
       "      <td>United Kingdom</td>\n",
       "    </tr>\n",
       "    <tr>\n",
       "      <th>299984</th>\n",
       "      <td>A563187</td>\n",
       "      <td>B</td>\n",
       "      <td>Adjust bad debt</td>\n",
       "      <td>1</td>\n",
       "      <td>8/12/2011 14:52</td>\n",
       "      <td>-11062.06</td>\n",
       "      <td>NaN</td>\n",
       "      <td>United Kingdom</td>\n",
       "    </tr>\n",
       "  </tbody>\n",
       "</table>\n",
       "</div>"
      ]
     },
     "execution_count": 136,
     "metadata": {},
     "output_type": "execute_result"
    }
   ],
   "execution_count": 136
  },
  {
   "cell_type": "code",
   "source": [
    "##CRITÉRIO DE AVALIAÇÃO: Verifique se há produtos com preços unitários iguais ou inferior a 0\n",
    "df[(df['UnitPrice'] == 0) | (df['UnitPrice'] < 0)]"
   ],
   "metadata": {
    "id": "zrF_5x3PXH2X",
    "ExecuteTime": {
     "end_time": "2025-06-20T01:28:38.396526Z",
     "start_time": "2025-06-20T01:28:38.384638Z"
    }
   },
   "outputs": [
    {
     "data": {
      "text/plain": [
       "       InvoiceNo StockCode                   Description  Quantity  \\\n",
       "622       536414     22139                           NaN        56   \n",
       "1970      536545     21134                           NaN         1   \n",
       "1971      536546     22145                           NaN         1   \n",
       "1972      536547     37509                           NaN         1   \n",
       "1987      536549    85226A                           NaN         1   \n",
       "...          ...       ...                           ...       ...   \n",
       "536981    581234     72817                           NaN        27   \n",
       "538504    581406    46000M  POLYESTER FILLER PAD 45x45cm       240   \n",
       "538505    581406    46000S  POLYESTER FILLER PAD 40x40cm       300   \n",
       "538554    581408     85175                           NaN        20   \n",
       "538919    581422     23169                       smashed      -235   \n",
       "\n",
       "            InvoiceDate  UnitPrice  CustomerID         Country  \n",
       "622     12/1/2010 11:52        0.0         NaN  United Kingdom  \n",
       "1970    12/1/2010 14:32        0.0         NaN  United Kingdom  \n",
       "1971    12/1/2010 14:33        0.0         NaN  United Kingdom  \n",
       "1972    12/1/2010 14:33        0.0         NaN  United Kingdom  \n",
       "1987    12/1/2010 14:34        0.0         NaN  United Kingdom  \n",
       "...                 ...        ...         ...             ...  \n",
       "536981  12/8/2011 10:33        0.0         NaN  United Kingdom  \n",
       "538504  12/8/2011 13:58        0.0         NaN  United Kingdom  \n",
       "538505  12/8/2011 13:58        0.0         NaN  United Kingdom  \n",
       "538554  12/8/2011 14:06        0.0         NaN  United Kingdom  \n",
       "538919  12/8/2011 15:24        0.0         NaN  United Kingdom  \n",
       "\n",
       "[2517 rows x 8 columns]"
      ],
      "text/html": [
       "<div>\n",
       "<style scoped>\n",
       "    .dataframe tbody tr th:only-of-type {\n",
       "        vertical-align: middle;\n",
       "    }\n",
       "\n",
       "    .dataframe tbody tr th {\n",
       "        vertical-align: top;\n",
       "    }\n",
       "\n",
       "    .dataframe thead th {\n",
       "        text-align: right;\n",
       "    }\n",
       "</style>\n",
       "<table border=\"1\" class=\"dataframe\">\n",
       "  <thead>\n",
       "    <tr style=\"text-align: right;\">\n",
       "      <th></th>\n",
       "      <th>InvoiceNo</th>\n",
       "      <th>StockCode</th>\n",
       "      <th>Description</th>\n",
       "      <th>Quantity</th>\n",
       "      <th>InvoiceDate</th>\n",
       "      <th>UnitPrice</th>\n",
       "      <th>CustomerID</th>\n",
       "      <th>Country</th>\n",
       "    </tr>\n",
       "  </thead>\n",
       "  <tbody>\n",
       "    <tr>\n",
       "      <th>622</th>\n",
       "      <td>536414</td>\n",
       "      <td>22139</td>\n",
       "      <td>NaN</td>\n",
       "      <td>56</td>\n",
       "      <td>12/1/2010 11:52</td>\n",
       "      <td>0.0</td>\n",
       "      <td>NaN</td>\n",
       "      <td>United Kingdom</td>\n",
       "    </tr>\n",
       "    <tr>\n",
       "      <th>1970</th>\n",
       "      <td>536545</td>\n",
       "      <td>21134</td>\n",
       "      <td>NaN</td>\n",
       "      <td>1</td>\n",
       "      <td>12/1/2010 14:32</td>\n",
       "      <td>0.0</td>\n",
       "      <td>NaN</td>\n",
       "      <td>United Kingdom</td>\n",
       "    </tr>\n",
       "    <tr>\n",
       "      <th>1971</th>\n",
       "      <td>536546</td>\n",
       "      <td>22145</td>\n",
       "      <td>NaN</td>\n",
       "      <td>1</td>\n",
       "      <td>12/1/2010 14:33</td>\n",
       "      <td>0.0</td>\n",
       "      <td>NaN</td>\n",
       "      <td>United Kingdom</td>\n",
       "    </tr>\n",
       "    <tr>\n",
       "      <th>1972</th>\n",
       "      <td>536547</td>\n",
       "      <td>37509</td>\n",
       "      <td>NaN</td>\n",
       "      <td>1</td>\n",
       "      <td>12/1/2010 14:33</td>\n",
       "      <td>0.0</td>\n",
       "      <td>NaN</td>\n",
       "      <td>United Kingdom</td>\n",
       "    </tr>\n",
       "    <tr>\n",
       "      <th>1987</th>\n",
       "      <td>536549</td>\n",
       "      <td>85226A</td>\n",
       "      <td>NaN</td>\n",
       "      <td>1</td>\n",
       "      <td>12/1/2010 14:34</td>\n",
       "      <td>0.0</td>\n",
       "      <td>NaN</td>\n",
       "      <td>United Kingdom</td>\n",
       "    </tr>\n",
       "    <tr>\n",
       "      <th>...</th>\n",
       "      <td>...</td>\n",
       "      <td>...</td>\n",
       "      <td>...</td>\n",
       "      <td>...</td>\n",
       "      <td>...</td>\n",
       "      <td>...</td>\n",
       "      <td>...</td>\n",
       "      <td>...</td>\n",
       "    </tr>\n",
       "    <tr>\n",
       "      <th>536981</th>\n",
       "      <td>581234</td>\n",
       "      <td>72817</td>\n",
       "      <td>NaN</td>\n",
       "      <td>27</td>\n",
       "      <td>12/8/2011 10:33</td>\n",
       "      <td>0.0</td>\n",
       "      <td>NaN</td>\n",
       "      <td>United Kingdom</td>\n",
       "    </tr>\n",
       "    <tr>\n",
       "      <th>538504</th>\n",
       "      <td>581406</td>\n",
       "      <td>46000M</td>\n",
       "      <td>POLYESTER FILLER PAD 45x45cm</td>\n",
       "      <td>240</td>\n",
       "      <td>12/8/2011 13:58</td>\n",
       "      <td>0.0</td>\n",
       "      <td>NaN</td>\n",
       "      <td>United Kingdom</td>\n",
       "    </tr>\n",
       "    <tr>\n",
       "      <th>538505</th>\n",
       "      <td>581406</td>\n",
       "      <td>46000S</td>\n",
       "      <td>POLYESTER FILLER PAD 40x40cm</td>\n",
       "      <td>300</td>\n",
       "      <td>12/8/2011 13:58</td>\n",
       "      <td>0.0</td>\n",
       "      <td>NaN</td>\n",
       "      <td>United Kingdom</td>\n",
       "    </tr>\n",
       "    <tr>\n",
       "      <th>538554</th>\n",
       "      <td>581408</td>\n",
       "      <td>85175</td>\n",
       "      <td>NaN</td>\n",
       "      <td>20</td>\n",
       "      <td>12/8/2011 14:06</td>\n",
       "      <td>0.0</td>\n",
       "      <td>NaN</td>\n",
       "      <td>United Kingdom</td>\n",
       "    </tr>\n",
       "    <tr>\n",
       "      <th>538919</th>\n",
       "      <td>581422</td>\n",
       "      <td>23169</td>\n",
       "      <td>smashed</td>\n",
       "      <td>-235</td>\n",
       "      <td>12/8/2011 15:24</td>\n",
       "      <td>0.0</td>\n",
       "      <td>NaN</td>\n",
       "      <td>United Kingdom</td>\n",
       "    </tr>\n",
       "  </tbody>\n",
       "</table>\n",
       "<p>2517 rows × 8 columns</p>\n",
       "</div>"
      ]
     },
     "execution_count": 137,
     "metadata": {},
     "output_type": "execute_result"
    }
   ],
   "execution_count": 137
  },
  {
   "cell_type": "code",
   "source": [
    "#CRITÉRIO DE AVALIAÇÃO: Removendo produtos com preços unitários iguais e inferiores a 0\n",
    "df = df[(df['UnitPrice'] >= 0)]"
   ],
   "metadata": {
    "id": "Z4_jt8dfX4PF",
    "ExecuteTime": {
     "end_time": "2025-06-20T01:28:40.408667Z",
     "start_time": "2025-06-20T01:28:40.367905Z"
    }
   },
   "outputs": [],
   "execution_count": 138
  },
  {
   "cell_type": "code",
   "source": [
    "#CRITÉRIO DE AVALIAÇÃO: Verifique se há produtos com quantidade igual ou inferior a 0\n",
    "df[(df['Quantity'] > 0)]"
   ],
   "metadata": {
    "id": "XnlmSS2USGBv",
    "ExecuteTime": {
     "end_time": "2025-06-20T01:28:42.233029Z",
     "start_time": "2025-06-20T01:28:42.191092Z"
    }
   },
   "outputs": [
    {
     "data": {
      "text/plain": [
       "       InvoiceNo StockCode                          Description  Quantity  \\\n",
       "0         536365    85123A   WHITE HANGING HEART T-LIGHT HOLDER         6   \n",
       "1         536365     71053                  WHITE METAL LANTERN         6   \n",
       "2         536365    84406B       CREAM CUPID HEARTS COAT HANGER         8   \n",
       "3         536365    84029G  KNITTED UNION FLAG HOT WATER BOTTLE         6   \n",
       "4         536365    84029E       RED WOOLLY HOTTIE WHITE HEART.         6   \n",
       "...          ...       ...                                  ...       ...   \n",
       "541904    581587     22613          PACK OF 20 SPACEBOY NAPKINS        12   \n",
       "541905    581587     22899          CHILDREN'S APRON DOLLY GIRL         6   \n",
       "541906    581587     23254         CHILDRENS CUTLERY DOLLY GIRL         4   \n",
       "541907    581587     23255      CHILDRENS CUTLERY CIRCUS PARADE         4   \n",
       "541908    581587     22138         BAKING SET 9 PIECE RETROSPOT         3   \n",
       "\n",
       "            InvoiceDate  UnitPrice  CustomerID         Country  \n",
       "0       12/1/2010 08:26       2.55     17850.0  United Kingdom  \n",
       "1       12/1/2010 08:26       3.39     17850.0  United Kingdom  \n",
       "2       12/1/2010 08:26       2.75     17850.0  United Kingdom  \n",
       "3       12/1/2010 08:26       3.39     17850.0  United Kingdom  \n",
       "4       12/1/2010 08:26       3.39     17850.0  United Kingdom  \n",
       "...                 ...        ...         ...             ...  \n",
       "541904  12/9/2011 12:50       0.85     12680.0          France  \n",
       "541905  12/9/2011 12:50       2.10     12680.0          France  \n",
       "541906  12/9/2011 12:50       4.15     12680.0          France  \n",
       "541907  12/9/2011 12:50       4.15     12680.0          France  \n",
       "541908  12/9/2011 12:50       4.95     12680.0          France  \n",
       "\n",
       "[531283 rows x 8 columns]"
      ],
      "text/html": [
       "<div>\n",
       "<style scoped>\n",
       "    .dataframe tbody tr th:only-of-type {\n",
       "        vertical-align: middle;\n",
       "    }\n",
       "\n",
       "    .dataframe tbody tr th {\n",
       "        vertical-align: top;\n",
       "    }\n",
       "\n",
       "    .dataframe thead th {\n",
       "        text-align: right;\n",
       "    }\n",
       "</style>\n",
       "<table border=\"1\" class=\"dataframe\">\n",
       "  <thead>\n",
       "    <tr style=\"text-align: right;\">\n",
       "      <th></th>\n",
       "      <th>InvoiceNo</th>\n",
       "      <th>StockCode</th>\n",
       "      <th>Description</th>\n",
       "      <th>Quantity</th>\n",
       "      <th>InvoiceDate</th>\n",
       "      <th>UnitPrice</th>\n",
       "      <th>CustomerID</th>\n",
       "      <th>Country</th>\n",
       "    </tr>\n",
       "  </thead>\n",
       "  <tbody>\n",
       "    <tr>\n",
       "      <th>0</th>\n",
       "      <td>536365</td>\n",
       "      <td>85123A</td>\n",
       "      <td>WHITE HANGING HEART T-LIGHT HOLDER</td>\n",
       "      <td>6</td>\n",
       "      <td>12/1/2010 08:26</td>\n",
       "      <td>2.55</td>\n",
       "      <td>17850.0</td>\n",
       "      <td>United Kingdom</td>\n",
       "    </tr>\n",
       "    <tr>\n",
       "      <th>1</th>\n",
       "      <td>536365</td>\n",
       "      <td>71053</td>\n",
       "      <td>WHITE METAL LANTERN</td>\n",
       "      <td>6</td>\n",
       "      <td>12/1/2010 08:26</td>\n",
       "      <td>3.39</td>\n",
       "      <td>17850.0</td>\n",
       "      <td>United Kingdom</td>\n",
       "    </tr>\n",
       "    <tr>\n",
       "      <th>2</th>\n",
       "      <td>536365</td>\n",
       "      <td>84406B</td>\n",
       "      <td>CREAM CUPID HEARTS COAT HANGER</td>\n",
       "      <td>8</td>\n",
       "      <td>12/1/2010 08:26</td>\n",
       "      <td>2.75</td>\n",
       "      <td>17850.0</td>\n",
       "      <td>United Kingdom</td>\n",
       "    </tr>\n",
       "    <tr>\n",
       "      <th>3</th>\n",
       "      <td>536365</td>\n",
       "      <td>84029G</td>\n",
       "      <td>KNITTED UNION FLAG HOT WATER BOTTLE</td>\n",
       "      <td>6</td>\n",
       "      <td>12/1/2010 08:26</td>\n",
       "      <td>3.39</td>\n",
       "      <td>17850.0</td>\n",
       "      <td>United Kingdom</td>\n",
       "    </tr>\n",
       "    <tr>\n",
       "      <th>4</th>\n",
       "      <td>536365</td>\n",
       "      <td>84029E</td>\n",
       "      <td>RED WOOLLY HOTTIE WHITE HEART.</td>\n",
       "      <td>6</td>\n",
       "      <td>12/1/2010 08:26</td>\n",
       "      <td>3.39</td>\n",
       "      <td>17850.0</td>\n",
       "      <td>United Kingdom</td>\n",
       "    </tr>\n",
       "    <tr>\n",
       "      <th>...</th>\n",
       "      <td>...</td>\n",
       "      <td>...</td>\n",
       "      <td>...</td>\n",
       "      <td>...</td>\n",
       "      <td>...</td>\n",
       "      <td>...</td>\n",
       "      <td>...</td>\n",
       "      <td>...</td>\n",
       "    </tr>\n",
       "    <tr>\n",
       "      <th>541904</th>\n",
       "      <td>581587</td>\n",
       "      <td>22613</td>\n",
       "      <td>PACK OF 20 SPACEBOY NAPKINS</td>\n",
       "      <td>12</td>\n",
       "      <td>12/9/2011 12:50</td>\n",
       "      <td>0.85</td>\n",
       "      <td>12680.0</td>\n",
       "      <td>France</td>\n",
       "    </tr>\n",
       "    <tr>\n",
       "      <th>541905</th>\n",
       "      <td>581587</td>\n",
       "      <td>22899</td>\n",
       "      <td>CHILDREN'S APRON DOLLY GIRL</td>\n",
       "      <td>6</td>\n",
       "      <td>12/9/2011 12:50</td>\n",
       "      <td>2.10</td>\n",
       "      <td>12680.0</td>\n",
       "      <td>France</td>\n",
       "    </tr>\n",
       "    <tr>\n",
       "      <th>541906</th>\n",
       "      <td>581587</td>\n",
       "      <td>23254</td>\n",
       "      <td>CHILDRENS CUTLERY DOLLY GIRL</td>\n",
       "      <td>4</td>\n",
       "      <td>12/9/2011 12:50</td>\n",
       "      <td>4.15</td>\n",
       "      <td>12680.0</td>\n",
       "      <td>France</td>\n",
       "    </tr>\n",
       "    <tr>\n",
       "      <th>541907</th>\n",
       "      <td>581587</td>\n",
       "      <td>23255</td>\n",
       "      <td>CHILDRENS CUTLERY CIRCUS PARADE</td>\n",
       "      <td>4</td>\n",
       "      <td>12/9/2011 12:50</td>\n",
       "      <td>4.15</td>\n",
       "      <td>12680.0</td>\n",
       "      <td>France</td>\n",
       "    </tr>\n",
       "    <tr>\n",
       "      <th>541908</th>\n",
       "      <td>581587</td>\n",
       "      <td>22138</td>\n",
       "      <td>BAKING SET 9 PIECE RETROSPOT</td>\n",
       "      <td>3</td>\n",
       "      <td>12/9/2011 12:50</td>\n",
       "      <td>4.95</td>\n",
       "      <td>12680.0</td>\n",
       "      <td>France</td>\n",
       "    </tr>\n",
       "  </tbody>\n",
       "</table>\n",
       "<p>531283 rows × 8 columns</p>\n",
       "</div>"
      ]
     },
     "execution_count": 139,
     "metadata": {},
     "output_type": "execute_result"
    }
   ],
   "execution_count": 139
  },
  {
   "cell_type": "markdown",
   "metadata": {
    "id": "y6ldpngAobtY"
   },
   "source": [
    "Etapa 3)\n",
    "- 2 - Filtre o dataset apenas para conter preços acima de zero"
   ]
  },
  {
   "cell_type": "code",
   "metadata": {
    "colab": {
     "base_uri": "https://localhost:8080/",
     "height": 423
    },
    "id": "IdeQyz45omou",
    "outputId": "bfe77881-9015-43f5-ceac-4806e831a972",
    "ExecuteTime": {
     "end_time": "2025-06-20T01:28:44.717147Z",
     "start_time": "2025-06-20T01:28:44.671112Z"
    }
   },
   "source": [
    "#2 - Filtrando o dataFrame.\n",
    "df[df['UnitPrice'] > 0]"
   ],
   "outputs": [
    {
     "data": {
      "text/plain": [
       "       InvoiceNo StockCode                          Description  Quantity  \\\n",
       "0         536365    85123A   WHITE HANGING HEART T-LIGHT HOLDER         6   \n",
       "1         536365     71053                  WHITE METAL LANTERN         6   \n",
       "2         536365    84406B       CREAM CUPID HEARTS COAT HANGER         8   \n",
       "3         536365    84029G  KNITTED UNION FLAG HOT WATER BOTTLE         6   \n",
       "4         536365    84029E       RED WOOLLY HOTTIE WHITE HEART.         6   \n",
       "...          ...       ...                                  ...       ...   \n",
       "541904    581587     22613          PACK OF 20 SPACEBOY NAPKINS        12   \n",
       "541905    581587     22899          CHILDREN'S APRON DOLLY GIRL         6   \n",
       "541906    581587     23254         CHILDRENS CUTLERY DOLLY GIRL         4   \n",
       "541907    581587     23255      CHILDRENS CUTLERY CIRCUS PARADE         4   \n",
       "541908    581587     22138         BAKING SET 9 PIECE RETROSPOT         3   \n",
       "\n",
       "            InvoiceDate  UnitPrice  CustomerID         Country  \n",
       "0       12/1/2010 08:26       2.55     17850.0  United Kingdom  \n",
       "1       12/1/2010 08:26       3.39     17850.0  United Kingdom  \n",
       "2       12/1/2010 08:26       2.75     17850.0  United Kingdom  \n",
       "3       12/1/2010 08:26       3.39     17850.0  United Kingdom  \n",
       "4       12/1/2010 08:26       3.39     17850.0  United Kingdom  \n",
       "...                 ...        ...         ...             ...  \n",
       "541904  12/9/2011 12:50       0.85     12680.0          France  \n",
       "541905  12/9/2011 12:50       2.10     12680.0          France  \n",
       "541906  12/9/2011 12:50       4.15     12680.0          France  \n",
       "541907  12/9/2011 12:50       4.15     12680.0          France  \n",
       "541908  12/9/2011 12:50       4.95     12680.0          France  \n",
       "\n",
       "[539392 rows x 8 columns]"
      ],
      "text/html": [
       "<div>\n",
       "<style scoped>\n",
       "    .dataframe tbody tr th:only-of-type {\n",
       "        vertical-align: middle;\n",
       "    }\n",
       "\n",
       "    .dataframe tbody tr th {\n",
       "        vertical-align: top;\n",
       "    }\n",
       "\n",
       "    .dataframe thead th {\n",
       "        text-align: right;\n",
       "    }\n",
       "</style>\n",
       "<table border=\"1\" class=\"dataframe\">\n",
       "  <thead>\n",
       "    <tr style=\"text-align: right;\">\n",
       "      <th></th>\n",
       "      <th>InvoiceNo</th>\n",
       "      <th>StockCode</th>\n",
       "      <th>Description</th>\n",
       "      <th>Quantity</th>\n",
       "      <th>InvoiceDate</th>\n",
       "      <th>UnitPrice</th>\n",
       "      <th>CustomerID</th>\n",
       "      <th>Country</th>\n",
       "    </tr>\n",
       "  </thead>\n",
       "  <tbody>\n",
       "    <tr>\n",
       "      <th>0</th>\n",
       "      <td>536365</td>\n",
       "      <td>85123A</td>\n",
       "      <td>WHITE HANGING HEART T-LIGHT HOLDER</td>\n",
       "      <td>6</td>\n",
       "      <td>12/1/2010 08:26</td>\n",
       "      <td>2.55</td>\n",
       "      <td>17850.0</td>\n",
       "      <td>United Kingdom</td>\n",
       "    </tr>\n",
       "    <tr>\n",
       "      <th>1</th>\n",
       "      <td>536365</td>\n",
       "      <td>71053</td>\n",
       "      <td>WHITE METAL LANTERN</td>\n",
       "      <td>6</td>\n",
       "      <td>12/1/2010 08:26</td>\n",
       "      <td>3.39</td>\n",
       "      <td>17850.0</td>\n",
       "      <td>United Kingdom</td>\n",
       "    </tr>\n",
       "    <tr>\n",
       "      <th>2</th>\n",
       "      <td>536365</td>\n",
       "      <td>84406B</td>\n",
       "      <td>CREAM CUPID HEARTS COAT HANGER</td>\n",
       "      <td>8</td>\n",
       "      <td>12/1/2010 08:26</td>\n",
       "      <td>2.75</td>\n",
       "      <td>17850.0</td>\n",
       "      <td>United Kingdom</td>\n",
       "    </tr>\n",
       "    <tr>\n",
       "      <th>3</th>\n",
       "      <td>536365</td>\n",
       "      <td>84029G</td>\n",
       "      <td>KNITTED UNION FLAG HOT WATER BOTTLE</td>\n",
       "      <td>6</td>\n",
       "      <td>12/1/2010 08:26</td>\n",
       "      <td>3.39</td>\n",
       "      <td>17850.0</td>\n",
       "      <td>United Kingdom</td>\n",
       "    </tr>\n",
       "    <tr>\n",
       "      <th>4</th>\n",
       "      <td>536365</td>\n",
       "      <td>84029E</td>\n",
       "      <td>RED WOOLLY HOTTIE WHITE HEART.</td>\n",
       "      <td>6</td>\n",
       "      <td>12/1/2010 08:26</td>\n",
       "      <td>3.39</td>\n",
       "      <td>17850.0</td>\n",
       "      <td>United Kingdom</td>\n",
       "    </tr>\n",
       "    <tr>\n",
       "      <th>...</th>\n",
       "      <td>...</td>\n",
       "      <td>...</td>\n",
       "      <td>...</td>\n",
       "      <td>...</td>\n",
       "      <td>...</td>\n",
       "      <td>...</td>\n",
       "      <td>...</td>\n",
       "      <td>...</td>\n",
       "    </tr>\n",
       "    <tr>\n",
       "      <th>541904</th>\n",
       "      <td>581587</td>\n",
       "      <td>22613</td>\n",
       "      <td>PACK OF 20 SPACEBOY NAPKINS</td>\n",
       "      <td>12</td>\n",
       "      <td>12/9/2011 12:50</td>\n",
       "      <td>0.85</td>\n",
       "      <td>12680.0</td>\n",
       "      <td>France</td>\n",
       "    </tr>\n",
       "    <tr>\n",
       "      <th>541905</th>\n",
       "      <td>581587</td>\n",
       "      <td>22899</td>\n",
       "      <td>CHILDREN'S APRON DOLLY GIRL</td>\n",
       "      <td>6</td>\n",
       "      <td>12/9/2011 12:50</td>\n",
       "      <td>2.10</td>\n",
       "      <td>12680.0</td>\n",
       "      <td>France</td>\n",
       "    </tr>\n",
       "    <tr>\n",
       "      <th>541906</th>\n",
       "      <td>581587</td>\n",
       "      <td>23254</td>\n",
       "      <td>CHILDRENS CUTLERY DOLLY GIRL</td>\n",
       "      <td>4</td>\n",
       "      <td>12/9/2011 12:50</td>\n",
       "      <td>4.15</td>\n",
       "      <td>12680.0</td>\n",
       "      <td>France</td>\n",
       "    </tr>\n",
       "    <tr>\n",
       "      <th>541907</th>\n",
       "      <td>581587</td>\n",
       "      <td>23255</td>\n",
       "      <td>CHILDRENS CUTLERY CIRCUS PARADE</td>\n",
       "      <td>4</td>\n",
       "      <td>12/9/2011 12:50</td>\n",
       "      <td>4.15</td>\n",
       "      <td>12680.0</td>\n",
       "      <td>France</td>\n",
       "    </tr>\n",
       "    <tr>\n",
       "      <th>541908</th>\n",
       "      <td>581587</td>\n",
       "      <td>22138</td>\n",
       "      <td>BAKING SET 9 PIECE RETROSPOT</td>\n",
       "      <td>3</td>\n",
       "      <td>12/9/2011 12:50</td>\n",
       "      <td>4.95</td>\n",
       "      <td>12680.0</td>\n",
       "      <td>France</td>\n",
       "    </tr>\n",
       "  </tbody>\n",
       "</table>\n",
       "<p>539392 rows × 8 columns</p>\n",
       "</div>"
      ]
     },
     "execution_count": 140,
     "metadata": {},
     "output_type": "execute_result"
    }
   ],
   "execution_count": 140
  },
  {
   "cell_type": "markdown",
   "source": [
    "Etapa 3)\n",
    "- 3 - Realize um filtro para verificar se existem dados nulos ou menor que\n",
    "zero na coluna de quantidade"
   ],
   "metadata": {
    "id": "eRT0iGsQVobf"
   }
  },
  {
   "cell_type": "code",
   "metadata": {
    "colab": {
     "base_uri": "https://localhost:8080/",
     "height": 53
    },
    "id": "Bxxm5OPlpDPc",
    "outputId": "9ca84649-8ccb-4f4e-a9ab-536e5b13e2f1",
    "ExecuteTime": {
     "end_time": "2025-06-20T01:28:47.151143Z",
     "start_time": "2025-06-20T01:28:47.137152Z"
    }
   },
   "source": [
    "#Filtrando o DataFrame.\n",
    "df[df['Quantity'].isna() | (df['Quantity'] < 0)]"
   ],
   "outputs": [
    {
     "data": {
      "text/plain": [
       "       InvoiceNo StockCode                       Description  Quantity  \\\n",
       "141      C536379         D                          Discount        -1   \n",
       "154      C536383    35004C   SET OF 3 COLOURED  FLYING DUCKS        -1   \n",
       "235      C536391     22556     PLASTERS IN TIN CIRCUS PARADE       -12   \n",
       "236      C536391     21984   PACK OF 12 PINK PAISLEY TISSUES       -24   \n",
       "237      C536391     21983   PACK OF 12 BLUE PAISLEY TISSUES       -24   \n",
       "...          ...       ...                               ...       ...   \n",
       "540449   C581490     23144   ZINC T-LIGHT HOLDER STARS SMALL       -11   \n",
       "541541   C581499         M                            Manual        -1   \n",
       "541715   C581568     21258        VICTORIAN SEWING BOX LARGE        -5   \n",
       "541716   C581569     84978  HANGING HEART JAR T-LIGHT HOLDER        -1   \n",
       "541717   C581569     20979     36 PENCILS TUBE RED RETROSPOT        -5   \n",
       "\n",
       "            InvoiceDate  UnitPrice  CustomerID         Country  \n",
       "141     12/1/2010 09:41      27.50     14527.0  United Kingdom  \n",
       "154     12/1/2010 09:49       4.65     15311.0  United Kingdom  \n",
       "235     12/1/2010 10:24       1.65     17548.0  United Kingdom  \n",
       "236     12/1/2010 10:24       0.29     17548.0  United Kingdom  \n",
       "237     12/1/2010 10:24       0.29     17548.0  United Kingdom  \n",
       "...                 ...        ...         ...             ...  \n",
       "540449  12/9/2011 09:57       0.83     14397.0  United Kingdom  \n",
       "541541  12/9/2011 10:28     224.69     15498.0  United Kingdom  \n",
       "541715  12/9/2011 11:57      10.95     15311.0  United Kingdom  \n",
       "541716  12/9/2011 11:58       1.25     17315.0  United Kingdom  \n",
       "541717  12/9/2011 11:58       1.25     17315.0  United Kingdom  \n",
       "\n",
       "[10624 rows x 8 columns]"
      ],
      "text/html": [
       "<div>\n",
       "<style scoped>\n",
       "    .dataframe tbody tr th:only-of-type {\n",
       "        vertical-align: middle;\n",
       "    }\n",
       "\n",
       "    .dataframe tbody tr th {\n",
       "        vertical-align: top;\n",
       "    }\n",
       "\n",
       "    .dataframe thead th {\n",
       "        text-align: right;\n",
       "    }\n",
       "</style>\n",
       "<table border=\"1\" class=\"dataframe\">\n",
       "  <thead>\n",
       "    <tr style=\"text-align: right;\">\n",
       "      <th></th>\n",
       "      <th>InvoiceNo</th>\n",
       "      <th>StockCode</th>\n",
       "      <th>Description</th>\n",
       "      <th>Quantity</th>\n",
       "      <th>InvoiceDate</th>\n",
       "      <th>UnitPrice</th>\n",
       "      <th>CustomerID</th>\n",
       "      <th>Country</th>\n",
       "    </tr>\n",
       "  </thead>\n",
       "  <tbody>\n",
       "    <tr>\n",
       "      <th>141</th>\n",
       "      <td>C536379</td>\n",
       "      <td>D</td>\n",
       "      <td>Discount</td>\n",
       "      <td>-1</td>\n",
       "      <td>12/1/2010 09:41</td>\n",
       "      <td>27.50</td>\n",
       "      <td>14527.0</td>\n",
       "      <td>United Kingdom</td>\n",
       "    </tr>\n",
       "    <tr>\n",
       "      <th>154</th>\n",
       "      <td>C536383</td>\n",
       "      <td>35004C</td>\n",
       "      <td>SET OF 3 COLOURED  FLYING DUCKS</td>\n",
       "      <td>-1</td>\n",
       "      <td>12/1/2010 09:49</td>\n",
       "      <td>4.65</td>\n",
       "      <td>15311.0</td>\n",
       "      <td>United Kingdom</td>\n",
       "    </tr>\n",
       "    <tr>\n",
       "      <th>235</th>\n",
       "      <td>C536391</td>\n",
       "      <td>22556</td>\n",
       "      <td>PLASTERS IN TIN CIRCUS PARADE</td>\n",
       "      <td>-12</td>\n",
       "      <td>12/1/2010 10:24</td>\n",
       "      <td>1.65</td>\n",
       "      <td>17548.0</td>\n",
       "      <td>United Kingdom</td>\n",
       "    </tr>\n",
       "    <tr>\n",
       "      <th>236</th>\n",
       "      <td>C536391</td>\n",
       "      <td>21984</td>\n",
       "      <td>PACK OF 12 PINK PAISLEY TISSUES</td>\n",
       "      <td>-24</td>\n",
       "      <td>12/1/2010 10:24</td>\n",
       "      <td>0.29</td>\n",
       "      <td>17548.0</td>\n",
       "      <td>United Kingdom</td>\n",
       "    </tr>\n",
       "    <tr>\n",
       "      <th>237</th>\n",
       "      <td>C536391</td>\n",
       "      <td>21983</td>\n",
       "      <td>PACK OF 12 BLUE PAISLEY TISSUES</td>\n",
       "      <td>-24</td>\n",
       "      <td>12/1/2010 10:24</td>\n",
       "      <td>0.29</td>\n",
       "      <td>17548.0</td>\n",
       "      <td>United Kingdom</td>\n",
       "    </tr>\n",
       "    <tr>\n",
       "      <th>...</th>\n",
       "      <td>...</td>\n",
       "      <td>...</td>\n",
       "      <td>...</td>\n",
       "      <td>...</td>\n",
       "      <td>...</td>\n",
       "      <td>...</td>\n",
       "      <td>...</td>\n",
       "      <td>...</td>\n",
       "    </tr>\n",
       "    <tr>\n",
       "      <th>540449</th>\n",
       "      <td>C581490</td>\n",
       "      <td>23144</td>\n",
       "      <td>ZINC T-LIGHT HOLDER STARS SMALL</td>\n",
       "      <td>-11</td>\n",
       "      <td>12/9/2011 09:57</td>\n",
       "      <td>0.83</td>\n",
       "      <td>14397.0</td>\n",
       "      <td>United Kingdom</td>\n",
       "    </tr>\n",
       "    <tr>\n",
       "      <th>541541</th>\n",
       "      <td>C581499</td>\n",
       "      <td>M</td>\n",
       "      <td>Manual</td>\n",
       "      <td>-1</td>\n",
       "      <td>12/9/2011 10:28</td>\n",
       "      <td>224.69</td>\n",
       "      <td>15498.0</td>\n",
       "      <td>United Kingdom</td>\n",
       "    </tr>\n",
       "    <tr>\n",
       "      <th>541715</th>\n",
       "      <td>C581568</td>\n",
       "      <td>21258</td>\n",
       "      <td>VICTORIAN SEWING BOX LARGE</td>\n",
       "      <td>-5</td>\n",
       "      <td>12/9/2011 11:57</td>\n",
       "      <td>10.95</td>\n",
       "      <td>15311.0</td>\n",
       "      <td>United Kingdom</td>\n",
       "    </tr>\n",
       "    <tr>\n",
       "      <th>541716</th>\n",
       "      <td>C581569</td>\n",
       "      <td>84978</td>\n",
       "      <td>HANGING HEART JAR T-LIGHT HOLDER</td>\n",
       "      <td>-1</td>\n",
       "      <td>12/9/2011 11:58</td>\n",
       "      <td>1.25</td>\n",
       "      <td>17315.0</td>\n",
       "      <td>United Kingdom</td>\n",
       "    </tr>\n",
       "    <tr>\n",
       "      <th>541717</th>\n",
       "      <td>C581569</td>\n",
       "      <td>20979</td>\n",
       "      <td>36 PENCILS TUBE RED RETROSPOT</td>\n",
       "      <td>-5</td>\n",
       "      <td>12/9/2011 11:58</td>\n",
       "      <td>1.25</td>\n",
       "      <td>17315.0</td>\n",
       "      <td>United Kingdom</td>\n",
       "    </tr>\n",
       "  </tbody>\n",
       "</table>\n",
       "<p>10624 rows × 8 columns</p>\n",
       "</div>"
      ]
     },
     "execution_count": 141,
     "metadata": {},
     "output_type": "execute_result"
    }
   ],
   "execution_count": 141
  },
  {
   "cell_type": "markdown",
   "metadata": {
    "id": "IeJI4-3yvcet"
   },
   "source": [
    "Etapa 3)\n",
    "- 4 - Filtre o dataset apenas para conter quantidade acima de zero"
   ]
  },
  {
   "cell_type": "code",
   "metadata": {
    "colab": {
     "base_uri": "https://localhost:8080/",
     "height": 423
    },
    "id": "YG7RBBiUvi9W",
    "outputId": "004095f6-9286-438e-ca39-d8f5f68e88a3",
    "ExecuteTime": {
     "end_time": "2025-06-20T01:30:16.304359Z",
     "start_time": "2025-06-20T01:30:16.259775Z"
    }
   },
   "source": [
    "#Filtre o dataset apenas para conter quantidade acima de zero\n",
    "df = df[df['Quantity'] > 0]"
   ],
   "outputs": [],
   "execution_count": 143
  },
  {
   "cell_type": "markdown",
   "metadata": {
    "id": "8C1aJ2cOv0G4"
   },
   "source": [
    "#Etapa 04) Verifique se existem linhas duplicadas\n"
   ]
  },
  {
   "cell_type": "markdown",
   "metadata": {
    "id": "EvH9EM9Pv2mV"
   },
   "source": [
    "Etapa 4)\n",
    "- 1 - Verifique se tem linhas duplicadas com a função duplicated"
   ]
  },
  {
   "cell_type": "code",
   "metadata": {
    "colab": {
     "base_uri": "https://localhost:8080/"
    },
    "id": "LZ441-Om0MNy",
    "outputId": "6364768d-107b-4020-e99e-a14acd489bca",
    "ExecuteTime": {
     "end_time": "2025-06-20T01:30:42.641613Z",
     "start_time": "2025-06-20T01:30:42.378248Z"
    }
   },
   "source": [
    "print('Tem linhas duplicadas? (SIM-True) / NÂO(False): ', df.duplicated().sum().any())"
   ],
   "outputs": [
    {
     "name": "stdout",
     "output_type": "stream",
     "text": [
      "Tem linhas duplicadas? (SIM-True) / NÂO(False):  True\n"
     ]
    }
   ],
   "execution_count": 145
  },
  {
   "cell_type": "code",
   "metadata": {
    "colab": {
     "base_uri": "https://localhost:8080/"
    },
    "id": "wVZfDEYZwGyw",
    "outputId": "85684094-8525-4f20-9ea0-f4aed2a013ae",
    "ExecuteTime": {
     "end_time": "2025-06-20T01:30:47.756719Z",
     "start_time": "2025-06-20T01:30:47.494027Z"
    }
   },
   "source": [
    "print('Quantas linhas duplicadas há na base de dados?: ', df.duplicated().sum(), 'linhas')"
   ],
   "outputs": [
    {
     "name": "stdout",
     "output_type": "stream",
     "text": [
      "Quantas linhas duplicadas há na base de dados?:  5231 linhas\n"
     ]
    }
   ],
   "execution_count": 146
  },
  {
   "cell_type": "markdown",
   "metadata": {
    "id": "H8LpYhwwyMvo"
   },
   "source": [
    "#Etapa 4)\n",
    "- 2 - Drope as linhas duplicadas\n"
   ]
  },
  {
   "cell_type": "code",
   "metadata": {
    "colab": {
     "base_uri": "https://localhost:8080/"
    },
    "id": "Ie_siIUlyRf6",
    "outputId": "e68b644b-7448-43b8-99ae-1951365ef13f",
    "ExecuteTime": {
     "end_time": "2025-06-20T01:30:56.170352Z",
     "start_time": "2025-06-20T01:30:55.624092Z"
    }
   },
   "source": [
    "#Apagando linhas duplicadas do DataFrame\n",
    "df = df.drop_duplicates()\n",
    "#Verificando novamente se restaram linhas duplicadas na base de dados!\n",
    "print('Quantas linhas duplicadas restaram na base de dados?: ', df.duplicated().sum(), 'linhas')"
   ],
   "outputs": [
    {
     "name": "stdout",
     "output_type": "stream",
     "text": [
      "Quantas linhas duplicadas restaram na base de dados?:  0 linhas\n"
     ]
    }
   ],
   "execution_count": 147
  },
  {
   "cell_type": "markdown",
   "metadata": {
    "id": "nC77fWAzStto"
   },
   "source": [
    "#**Etapa 05) Tipos de dados da coluna**\n",
    "5.1) Corrija o tipo de dados para:\n",
    "- InvoiceNo -> object / str\n",
    "- StockCode -> object / str\n",
    "- Description -> object / str\n",
    "- Quantity -> int\n",
    "- InvoiceDate -> datetime\n",
    "- UnitPrice -> float\n",
    "- CustomerID -> int\n",
    "- Country -> object / str"
   ]
  },
  {
   "cell_type": "markdown",
   "metadata": {
    "id": "gp1cYtRt-7R7"
   },
   "source": [
    "**MAP, EXPRESSÃO LAMBDA e UNIQUE**\n",
    "- ***map()*** é uma função de transformação ou mapeamento a cada elemento de um DataFrame(df), resultante em um novo DataFrame(df) com os valores modificados.\n",
    "- A função de *Mapa* é uma ferramenta versátil para manipulação de dados, permitindo que execute operações e transformações em elementos DataFrame e Series.\n",
    "- ***Expressão lambda*** é uma *função* anônima de forma rápida e simples. Em vez de criar uma *função* nomeada, cria-se essa *função lambda* diretamente no código.\n",
    "- ***A função unique()*** retorna as linhas únicas do intervalo de origem, descartando as duplicadas. As linhas são retornadas na ordem em que são exibidas no intervalo de origem.\n"
   ]
  },
  {
   "cell_type": "markdown",
   "metadata": {
    "id": "HYKND5oKg_Y0"
   },
   "source": [
    "#Tratando possível erro de conversão logo de ínicio\n",
    "Repare no erro logo abaixo na coluna **CustomerID**\n",
    "\n",
    "- ValueError: cannot convert float NaN to integer:\n",
    "- Erro ocorreu quando tentei converter a coluna(float) para (inteiro), mas a coluna contém valores NaN(valores não válidos)"
   ]
  },
  {
   "cell_type": "code",
   "metadata": {
    "id": "mymohmWChKmF",
    "colab": {
     "base_uri": "https://localhost:8080/",
     "height": 183
    },
    "outputId": "a131081f-b0a9-43c2-e559-0096c7c03641",
    "ExecuteTime": {
     "end_time": "2025-06-20T01:35:36.687504Z",
     "start_time": "2025-06-20T01:35:36.621961Z"
    }
   },
   "source": [
    "#Convertendo CustomerID to int\n",
    "df['CustomerID'] = df['CustomerID'].astype('Int64')"
   ],
   "outputs": [],
   "execution_count": 148
  },
  {
   "cell_type": "code",
   "metadata": {
    "colab": {
     "base_uri": "https://localhost:8080/",
     "height": 335
    },
    "id": "t4gqpQU9hVnY",
    "outputId": "49d8c932-f56b-46f0-c317-f716bdf44157",
    "ExecuteTime": {
     "end_time": "2025-06-20T01:36:07.704398Z",
     "start_time": "2025-06-20T01:36:07.607729Z"
    }
   },
   "source": [
    "#Quantidade de valores ausentes(NaN) por colunas na tabela acima:\n",
    "df.isna().sum()"
   ],
   "outputs": [
    {
     "data": {
      "text/plain": [
       "InvoiceNo           0\n",
       "StockCode           0\n",
       "Description       592\n",
       "Quantity            0\n",
       "InvoiceDate         0\n",
       "UnitPrice           0\n",
       "CustomerID     133320\n",
       "Country             0\n",
       "dtype: int64"
      ]
     },
     "execution_count": 149,
     "metadata": {},
     "output_type": "execute_result"
    }
   ],
   "execution_count": 149
  },
  {
   "metadata": {},
   "cell_type": "markdown",
   "source": [
    "**Estratégia:** escolho manter a coluna ['CustomerID']\n",
    "- Identificar registros com CustomerID ausente\n",
    "- Agrupar, filtrar ou modelar sem perder dados."
   ]
  },
  {
   "cell_type": "code",
   "metadata": {
    "id": "oCAyDsc0hfvx",
    "ExecuteTime": {
     "end_time": "2025-06-20T02:24:31.790336Z",
     "start_time": "2025-06-20T02:24:31.785135Z"
    }
   },
   "source": "df['CustomerID_ausente'] = df['CustomerID'].isna()",
   "outputs": [],
   "execution_count": 151
  },
  {
   "metadata": {
    "ExecuteTime": {
     "end_time": "2025-06-20T02:25:55.889266Z",
     "start_time": "2025-06-20T02:25:55.879574Z"
    }
   },
   "cell_type": "code",
   "source": "df['CustomerID'] = df['CustomerID'].fillna(-1).astype('int')",
   "outputs": [],
   "execution_count": 152
  },
  {
   "cell_type": "code",
   "metadata": {
    "colab": {
     "base_uri": "https://localhost:8080/",
     "height": 335
    },
    "id": "mrPKPGQRhofL",
    "outputId": "0fb1aa4d-99f1-4c82-bbaa-fb2453fccdbf",
    "ExecuteTime": {
     "end_time": "2025-06-20T02:30:01.586313Z",
     "start_time": "2025-06-20T02:30:01.476744Z"
    }
   },
   "source": [
    "#Verificando se restaram valores faltantes na base de dados, novamente.\n",
    "df.isna().sum()"
   ],
   "outputs": [
    {
     "data": {
      "text/plain": [
       "InvoiceNo               0\n",
       "StockCode               0\n",
       "Description           592\n",
       "Quantity                0\n",
       "InvoiceDate             0\n",
       "UnitPrice               0\n",
       "CustomerID              0\n",
       "Country                 0\n",
       "CustomerID_ausente      0\n",
       "dtype: int64"
      ]
     },
     "execution_count": 153,
     "metadata": {},
     "output_type": "execute_result"
    }
   ],
   "execution_count": 153
  },
  {
   "cell_type": "code",
   "metadata": {
    "id": "9lWMQNHqgdou",
    "ExecuteTime": {
     "end_time": "2025-06-20T02:30:23.307205Z",
     "start_time": "2025-06-20T02:30:23.294227Z"
    }
   },
   "source": [
    "#Criando uma nova coluna InvoiceNo do tipo 'str'.\n",
    "df['InvoiceNo'] = df['InvoiceNo'].astype(str)"
   ],
   "outputs": [],
   "execution_count": 154
  },
  {
   "cell_type": "code",
   "metadata": {
    "colab": {
     "base_uri": "https://localhost:8080/"
    },
    "id": "UweVlfFIhFUg",
    "outputId": "8b0b6060-b6ad-4cc4-8c6b-5dcb677a1bc6",
    "ExecuteTime": {
     "end_time": "2025-06-20T02:30:29.548839Z",
     "start_time": "2025-06-20T02:30:29.474593Z"
    }
   },
   "source": [
    "#Verificando a propriedade da coluna InvoiceNo.\n",
    "df['InvoiceNo'].map(lambda x: type(x)).unique()"
   ],
   "outputs": [
    {
     "data": {
      "text/plain": [
       "array([<class 'str'>], dtype=object)"
      ]
     },
     "execution_count": 155,
     "metadata": {},
     "output_type": "execute_result"
    }
   ],
   "execution_count": 155
  },
  {
   "cell_type": "code",
   "metadata": {
    "id": "Xg4BOnBuh8vp",
    "ExecuteTime": {
     "end_time": "2025-06-20T02:30:32.677546Z",
     "start_time": "2025-06-20T02:30:32.664809Z"
    }
   },
   "source": [
    "#Criando uma nova coluna StockCode do tipo 'str'.\n",
    "df['StockCode'] = df['StockCode'].astype(str)"
   ],
   "outputs": [],
   "execution_count": 156
  },
  {
   "cell_type": "code",
   "metadata": {
    "colab": {
     "base_uri": "https://localhost:8080/"
    },
    "id": "hijgD_4Kh8s_",
    "outputId": "578ded50-43be-4353-a5b6-f91879e8231c",
    "ExecuteTime": {
     "end_time": "2025-06-20T02:30:38.910447Z",
     "start_time": "2025-06-20T02:30:38.833856Z"
    }
   },
   "source": [
    "#Verificando a propriedade da coluna StockCode.\n",
    "df['StockCode'].map(lambda x: type(x)).unique()"
   ],
   "outputs": [
    {
     "data": {
      "text/plain": [
       "array([<class 'str'>], dtype=object)"
      ]
     },
     "execution_count": 157,
     "metadata": {},
     "output_type": "execute_result"
    }
   ],
   "execution_count": 157
  },
  {
   "cell_type": "code",
   "metadata": {
    "id": "IT4Sqdshh8ke",
    "ExecuteTime": {
     "end_time": "2025-06-20T02:30:40.745119Z",
     "start_time": "2025-06-20T02:30:40.732568Z"
    }
   },
   "source": [
    "#Criando uma nova coluna Description do tipo 'str'.\n",
    "df['Description'] = df['Description'].astype(str)"
   ],
   "outputs": [],
   "execution_count": 158
  },
  {
   "cell_type": "code",
   "metadata": {
    "colab": {
     "base_uri": "https://localhost:8080/"
    },
    "id": "X4-54YFsh8hp",
    "outputId": "e7a0b927-0fc7-41b6-f6f8-6e49202094af",
    "ExecuteTime": {
     "end_time": "2025-06-20T02:30:42.587610Z",
     "start_time": "2025-06-20T02:30:42.513127Z"
    }
   },
   "source": [
    "#Verificando a propriedade da coluna Description.\n",
    "df['Description'].map(lambda x: type(x)).unique()"
   ],
   "outputs": [
    {
     "data": {
      "text/plain": [
       "array([<class 'str'>], dtype=object)"
      ]
     },
     "execution_count": 159,
     "metadata": {},
     "output_type": "execute_result"
    }
   ],
   "execution_count": 159
  },
  {
   "cell_type": "code",
   "metadata": {
    "id": "9xzTyTuYh8Zb",
    "ExecuteTime": {
     "end_time": "2025-06-20T02:30:44.113564Z",
     "start_time": "2025-06-20T02:30:44.107718Z"
    }
   },
   "source": [
    "#Criando uma nova coluna Quantity do tipo 'int'.\n",
    "df['Quantity'] = df['Quantity'].astype(int)"
   ],
   "outputs": [],
   "execution_count": 160
  },
  {
   "cell_type": "code",
   "metadata": {
    "colab": {
     "base_uri": "https://localhost:8080/"
    },
    "id": "KlFayNbyh8Ws",
    "outputId": "7f647230-fc28-4914-c190-b5c55b1cebb9",
    "ExecuteTime": {
     "end_time": "2025-06-20T02:30:45.887397Z",
     "start_time": "2025-06-20T02:30:45.809605Z"
    }
   },
   "source": [
    "#Verificando a propriedade da coluna Quantity.\n",
    "df['Quantity'].map(lambda x: type(x)).unique()"
   ],
   "outputs": [
    {
     "data": {
      "text/plain": [
       "array([<class 'int'>], dtype=object)"
      ]
     },
     "execution_count": 161,
     "metadata": {},
     "output_type": "execute_result"
    }
   ],
   "execution_count": 161
  },
  {
   "cell_type": "code",
   "metadata": {
    "id": "IcwOg0IJh6Jd",
    "ExecuteTime": {
     "end_time": "2025-06-20T02:30:47.535833Z",
     "start_time": "2025-06-20T02:30:47.425754Z"
    }
   },
   "source": [
    "#Criando uma nova coluna InvoiceDate do tipo 'datetime'.\n",
    "df['InvoiceDate'] = df['InvoiceDate'] = pd.to_datetime(df['InvoiceDate'])"
   ],
   "outputs": [],
   "execution_count": 162
  },
  {
   "cell_type": "code",
   "metadata": {
    "colab": {
     "base_uri": "https://localhost:8080/"
    },
    "id": "uSyZA_Phh6G3",
    "outputId": "2e432d8a-6d6e-4880-c5a4-d6472a2ace21",
    "ExecuteTime": {
     "end_time": "2025-06-20T02:30:49.485087Z",
     "start_time": "2025-06-20T02:30:49.052601Z"
    }
   },
   "source": [
    "#Analisando o tipo de dado da coluna InvoiceDate\n",
    "df['InvoiceDate'].map(lambda x: type(x)).unique()"
   ],
   "outputs": [
    {
     "data": {
      "text/plain": [
       "array([<class 'pandas._libs.tslibs.timestamps.Timestamp'>], dtype=object)"
      ]
     },
     "execution_count": 163,
     "metadata": {},
     "output_type": "execute_result"
    }
   ],
   "execution_count": 163
  },
  {
   "cell_type": "code",
   "metadata": {
    "id": "LZMq6p_-h59P",
    "ExecuteTime": {
     "end_time": "2025-06-20T02:30:51.295333Z",
     "start_time": "2025-06-20T02:30:51.288605Z"
    }
   },
   "source": [
    "#Criando uma nova coluna UnitPrice do tipo 'float'.\n",
    "df['UnitPrice'] = df['UnitPrice'].astype(float)"
   ],
   "outputs": [],
   "execution_count": 164
  },
  {
   "cell_type": "code",
   "metadata": {
    "colab": {
     "base_uri": "https://localhost:8080/"
    },
    "id": "6ipWlaa2h56l",
    "outputId": "aa3578d8-84d7-4a35-928f-a4a831a1c0ab",
    "ExecuteTime": {
     "end_time": "2025-06-20T02:30:58.955495Z",
     "start_time": "2025-06-20T02:30:58.869274Z"
    }
   },
   "source": [
    "#Verificando a propriedade da coluna UnitPrice.\n",
    "df['UnitPrice'].map(lambda x: type(x)).unique()"
   ],
   "outputs": [
    {
     "data": {
      "text/plain": [
       "array([<class 'float'>], dtype=object)"
      ]
     },
     "execution_count": 165,
     "metadata": {},
     "output_type": "execute_result"
    }
   ],
   "execution_count": 165
  },
  {
   "cell_type": "code",
   "metadata": {
    "id": "yd6_BY2Ph5so",
    "ExecuteTime": {
     "end_time": "2025-06-20T02:31:00.384864Z",
     "start_time": "2025-06-20T02:31:00.378306Z"
    }
   },
   "source": [
    "#Criando uma nova coluna CustomerID do tipo 'int'.\n",
    "df['CustomerID'] = df['CustomerID'].astype(int)"
   ],
   "outputs": [],
   "execution_count": 166
  },
  {
   "cell_type": "code",
   "metadata": {
    "colab": {
     "base_uri": "https://localhost:8080/"
    },
    "id": "K_tiHKDuh5iy",
    "outputId": "feb82b73-0ac9-4308-e659-b5ed9010fa6e",
    "ExecuteTime": {
     "end_time": "2025-06-20T02:31:04.077246Z",
     "start_time": "2025-06-20T02:31:03.991271Z"
    }
   },
   "source": [
    "#Verificando a propriedade da coluna CustomerID\n",
    "df['CustomerID'].map(lambda x: type(x)).unique()"
   ],
   "outputs": [
    {
     "data": {
      "text/plain": [
       "array([<class 'int'>], dtype=object)"
      ]
     },
     "execution_count": 167,
     "metadata": {},
     "output_type": "execute_result"
    }
   ],
   "execution_count": 167
  },
  {
   "cell_type": "code",
   "metadata": {
    "id": "nhcb3A8Ah5f0",
    "ExecuteTime": {
     "end_time": "2025-06-20T02:31:05.856012Z",
     "start_time": "2025-06-20T02:31:05.836590Z"
    }
   },
   "source": [
    "#Criando uma nova coluna Country do tipo 'str'.\n",
    "df['Country'] = df['Country'].astype(str)"
   ],
   "outputs": [],
   "execution_count": 168
  },
  {
   "cell_type": "code",
   "metadata": {
    "colab": {
     "base_uri": "https://localhost:8080/"
    },
    "id": "jcJgwR1Sh4uo",
    "outputId": "5c2b1cc3-c246-4aad-b994-adecedc1d22f",
    "ExecuteTime": {
     "end_time": "2025-06-20T02:31:07.737537Z",
     "start_time": "2025-06-20T02:31:07.666503Z"
    }
   },
   "source": [
    "#Verificando a propriedade da coluna Country\n",
    "df['Country'].map(lambda x: type(x)).unique()"
   ],
   "outputs": [
    {
     "data": {
      "text/plain": [
       "array([<class 'str'>], dtype=object)"
      ]
     },
     "execution_count": 169,
     "metadata": {},
     "output_type": "execute_result"
    }
   ],
   "execution_count": 169
  },
  {
   "cell_type": "markdown",
   "metadata": {
    "id": "bTzDqBQ_jDyr"
   },
   "source": [
    "#Etapa 06) Tratando os outliers\n",
    "\n",
    "#*O que são outliers?*\n",
    "*Outliers, ou valores discrepantes, são observações nos dados que se diferenciam drasticamente da distribuição principal. Eles podem representar pontos problemáticos que impactam as análises.*\n",
    "- Dica: Vamos considerar estes valores como erro.Visualize os outliers e\n",
    "remova os outliers extremos em que a quantidade do item na compra é\n",
    "superior a 10.000, e o preço unitário é maior que 5.000."
   ]
  },
  {
   "cell_type": "code",
   "metadata": {
    "colab": {
     "base_uri": "https://localhost:8080/",
     "height": 368
    },
    "id": "93MrD7jWCrXH",
    "outputId": "3e65e52a-5e37-4fdf-c4b4-537b69df7c36",
    "ExecuteTime": {
     "end_time": "2025-06-20T00:47:43.301082Z",
     "start_time": "2025-06-20T00:47:43.128714Z"
    }
   },
   "source": [
    "colunas_numericas = df.select_dtypes('number').columns\n",
    "df[colunas_numericas].apply(scale).plot.box(figsize=(8,4));"
   ],
   "outputs": [
    {
     "data": {
      "text/plain": [
       "<Figure size 800x400 with 1 Axes>"
      ],
      "image/png": "[encoded data removed]"
     },
     "metadata": {},
     "output_type": "display_data"
    }
   ],
   "execution_count": 68
  },
  {
   "cell_type": "code",
   "metadata": {
    "id": "PFVWwfHjYnX1",
    "ExecuteTime": {
     "end_time": "2025-06-20T00:48:20.363378Z",
     "start_time": "2025-06-20T00:48:20.358073Z"
    }
   },
   "source": [
    "#Filtrando valores discrepantes(outliers)\n",
    "Outliers = df.loc[(df['Quantity'] > 10000 ) | (df['UnitPrice'] > 5000), ['Quantity', 'UnitPrice']]"
   ],
   "outputs": [],
   "execution_count": 69
  },
  {
   "cell_type": "markdown",
   "metadata": {
    "id": "ssv5j7Y-9UVZ"
   },
   "source": [
    "- Removendo índices dos valores discrepantes"
   ]
  },
  {
   "cell_type": "code",
   "metadata": {
    "colab": {
     "base_uri": "https://localhost:8080/"
    },
    "id": "M5LQqKSHk2RA",
    "outputId": "07f209ea-7562-474c-c85c-1ec8d4c5cea2",
    "ExecuteTime": {
     "end_time": "2025-06-20T00:48:22.665069Z",
     "start_time": "2025-06-20T00:48:22.660342Z"
    }
   },
   "source": [
    "cont = 0\n",
    "for outliers in Outliers.index:\n",
    "  df = df.drop(index=outliers)\n",
    "  cont += 1\n",
    "print(cont, 'Outliers removidos!')"
   ],
   "outputs": [
    {
     "name": "stdout",
     "output_type": "stream",
     "text": [
      "0 Outliers removidos!\n"
     ]
    }
   ],
   "execution_count": 70
  },
  {
   "cell_type": "code",
   "metadata": {
    "colab": {
     "base_uri": "https://localhost:8080/",
     "height": 368
    },
    "id": "eKIMFQBDlXJt",
    "outputId": "6c1c2e80-c10e-4043-d7f6-a5d675933db7",
    "ExecuteTime": {
     "end_time": "2025-06-20T00:48:24.885763Z",
     "start_time": "2025-06-20T00:48:24.799766Z"
    }
   },
   "source": [
    "colunas_numericas = df.select_dtypes('number').columns\n",
    "df[colunas_numericas].apply(scale).plot.box(figsize=(8,4));"
   ],
   "outputs": [
    {
     "data": {
      "text/plain": [
       "<Figure size 800x400 with 1 Axes>"
      ],
      "image/png": "[encoded data removed]"
     },
     "metadata": {},
     "output_type": "display_data"
    }
   ],
   "execution_count": 71
  },
  {
   "cell_type": "markdown",
   "metadata": {
    "id": "jydGb9cAV2v0"
   },
   "source": [
    "#Etapa 07) Crie uma coluna adicional\n"
   ]
  },
  {
   "cell_type": "markdown",
   "metadata": {
    "id": "kCW9YorFV6tm"
   },
   "source": [
    "- Dica: Utilize as colunas Quantity e UnitPrice.\n",
    "- Crie uma coluna adicional\n",
    "com o preço total da compra"
   ]
  },
  {
   "cell_type": "code",
   "metadata": {
    "colab": {
     "base_uri": "https://localhost:8080/",
     "height": 423
    },
    "id": "f4P6t16EV943",
    "outputId": "6edd9070-565b-40c8-f030-701607b17584",
    "ExecuteTime": {
     "end_time": "2025-06-20T00:48:28.271209Z",
     "start_time": "2025-06-20T00:48:28.261640Z"
    }
   },
   "source": [
    "total_da_compra = df['Quantity']*df['UnitPrice']\n",
    "df['total_da_compra'] = total_da_compra\n",
    "display(df)"
   ],
   "outputs": [
    {
     "data": {
      "text/plain": [
       "Empty DataFrame\n",
       "Columns: [InvoiceNo, StockCode, Description, Quantity, InvoiceDate, UnitPrice, CustomerID, Country, total_da_compra]\n",
       "Index: []"
      ],
      "text/html": [
       "<div>\n",
       "<style scoped>\n",
       "    .dataframe tbody tr th:only-of-type {\n",
       "        vertical-align: middle;\n",
       "    }\n",
       "\n",
       "    .dataframe tbody tr th {\n",
       "        vertical-align: top;\n",
       "    }\n",
       "\n",
       "    .dataframe thead th {\n",
       "        text-align: right;\n",
       "    }\n",
       "</style>\n",
       "<table border=\"1\" class=\"dataframe\">\n",
       "  <thead>\n",
       "    <tr style=\"text-align: right;\">\n",
       "      <th></th>\n",
       "      <th>InvoiceNo</th>\n",
       "      <th>StockCode</th>\n",
       "      <th>Description</th>\n",
       "      <th>Quantity</th>\n",
       "      <th>InvoiceDate</th>\n",
       "      <th>UnitPrice</th>\n",
       "      <th>CustomerID</th>\n",
       "      <th>Country</th>\n",
       "      <th>total_da_compra</th>\n",
       "    </tr>\n",
       "  </thead>\n",
       "  <tbody>\n",
       "  </tbody>\n",
       "</table>\n",
       "</div>"
      ]
     },
     "metadata": {},
     "output_type": "display_data"
    }
   ],
   "execution_count": 72
  },
  {
   "cell_type": "markdown",
   "metadata": {
    "id": "zKmS85kexGK7"
   },
   "source": [
    "#Etapa 08) Última data\n",
    "- Dica: Utilize a função max().\n",
    "- Calcule a data da última compra no\n",
    "dataset como um todo, pois vamos utilizar este valor como data de\n",
    "comparação para cálculo da recência.\n"
   ]
  },
  {
   "cell_type": "code",
   "source": [
    "dia_do_hit = df['InvoiceDate'].max() + pd.Timedelta(days=1)"
   ],
   "metadata": {
    "id": "vwJNH9i3FdtB",
    "ExecuteTime": {
     "end_time": "2025-06-20T00:48:32.750675Z",
     "start_time": "2025-06-20T00:48:32.744907Z"
    }
   },
   "outputs": [],
   "execution_count": 73
  },
  {
   "cell_type": "markdown",
   "metadata": {
    "id": "8nPoIej1uiZL"
   },
   "source": [
    "#Etapa 09) Plotando gráficos\n",
    "- Top 10 países com maior valor em venda"
   ]
  },
  {
   "cell_type": "code",
   "metadata": {
    "colab": {
     "base_uri": "https://localhost:8080/",
     "height": 562
    },
    "id": "-bAYQjQhWqLy",
    "outputId": "3eb9eb12-4837-4216-8c35-3e5d98f5aa63",
    "ExecuteTime": {
     "end_time": "2025-06-20T00:48:34.970635Z",
     "start_time": "2025-06-20T00:48:34.821124Z"
    }
   },
   "source": [
    "def mil (x, pos):\n",
    "  if x >= 1000000:\n",
    "    return f'R${x/1000000:} milhões'\n",
    "  elif x >= 1000:\n",
    "    return f'R${x/1000:} mil'\n",
    "  else:\n",
    "    return f'R${x:}'\n",
    "\n",
    "\n",
    "paises_maiores_vendedores = df.groupby(['Country'])['total_da_compra'].sum().sort_values(ascending=False).head(10)\n",
    "plt.figure(figsize=(30, 5))\n",
    "ax = plt.subplot(1,2,1)\n",
    "plt.bar(paises_maiores_vendedores.index, paises_maiores_vendedores.values, color='lightblue')\n",
    "ax.yaxis.set_major_formatter(FuncFormatter(mil))\n",
    "plt.xlabel(\"Países\")\n",
    "plt.ylabel(\"Vendas(R$)\")\n",
    "plt.title(\"TOP 10 PAÍSES COM MAIOR VALOR EM VENDAS\", fontsize=14, weight='bold')\n",
    "plt.xticks(rotation=60, fontsize='small')\n",
    "plt.yticks(fontsize='small');"
   ],
   "outputs": [
    {
     "data": {
      "text/plain": [
       "<Figure size 3000x500 with 1 Axes>"
      ],
      "image/png": "[encoded data removed]"
     },
     "metadata": {},
     "output_type": "display_data"
    }
   ],
   "execution_count": 74
  },
  {
   "cell_type": "markdown",
   "metadata": {
    "id": "2uTg1Clbj8Zb"
   },
   "source": [
    "- Top 10 produtos mais vendidos"
   ]
  },
  {
   "cell_type": "code",
   "metadata": {
    "colab": {
     "base_uri": "https://localhost:8080/",
     "height": 542
    },
    "id": "GMlORhzJkcKu",
    "outputId": "e8ee0e34-fe9d-4c39-b0ec-c8a14a1081ce",
    "ExecuteTime": {
     "end_time": "2025-06-20T00:48:38.898270Z",
     "start_time": "2025-06-20T00:48:38.754843Z"
    }
   },
   "source": [
    "def mil (x, pos):\n",
    "  if x >= 1000000:\n",
    "    return f'R${x/1000000:} milhões'\n",
    "  elif x >= 1000:\n",
    "    return f'R${x/1000:} mil'\n",
    "  else:\n",
    "    return f'R${x:}'\n",
    "\n",
    "formatador = FuncFormatter(mil)\n",
    "produtos_top10 = df.groupby(['Description'])['total_da_compra'].sum().sort_values(ascending=False).head(10)\n",
    "plt.figure(figsize=(30, 5))\n",
    "ax = plt.subplot(1,2,1)\n",
    "plt.barh(produtos_top10.index, produtos_top10.values, color='lightblue')\n",
    "ax = ax.xaxis.set_major_formatter(formatador)\n",
    "plt.xlabel(\"Produto\")\n",
    "plt.ylabel(\"Vendas(R$)\")\n",
    "plt.title(\"TOP 10 PRODUTOS MAIS VENDIDOS\", fontsize=14, weight='bold')\n",
    "plt.xticks(rotation=60, fontsize='small')\n",
    "plt.yticks(fontsize='small');"
   ],
   "outputs": [
    {
     "data": {
      "text/plain": [
       "<Figure size 3000x500 with 1 Axes>"
      ],
      "image/png": "[encoded data removed]"
     },
     "metadata": {},
     "output_type": "display_data"
    }
   ],
   "execution_count": 75
  },
  {
   "cell_type": "markdown",
   "metadata": {
    "id": "XmoAodTIortn"
   },
   "source": [
    "- Valor de venda total por mês\n"
   ]
  },
  {
   "cell_type": "code",
   "execution_count": 309,
   "metadata": {
    "colab": {
     "base_uri": "https://localhost:8080/",
     "height": 500
    },
    "id": "xNyuJ2SOonpx",
    "outputId": "40f85602-1f9f-4cdd-bc65-676c2ee91a80"
   },
   "outputs": [
    {
     "output_type": "display_data",
     "data": {
      "text/plain": [
       "<Figure size 3000x500 with 1 Axes>"
      ],
      "image/png": "[encoded data removed]"
     },
     "metadata": {}
    }
   ],
   "source": [
    "def mil (x, pos):\n",
    "  if x >= 1000000:\n",
    "    return f'R${x/1000000:} milhões'\n",
    "  elif x >= 1000:\n",
    "    return f'R${x/1000:} mil'\n",
    "  else:\n",
    "    return f'R${x:}'\n",
    "\n",
    "FuncFormatter(mil)\n",
    "mes = df['InvoiceDate'].dt.month\n",
    "total_da_compra_mes = df.groupby(mes)['total_da_compra'].sum().sort_values(ascending=False)\n",
    "total_da_compra_mes.index = ['Jan', 'Fev', 'Mar', 'Abr', 'Mai', 'Jun', 'Jul', 'Ago', 'Set', 'Out', 'Nov', 'Dez']\n",
    "plt.figure(figsize=(30, 5))\n",
    "ax = plt.subplot(1,2,1)\n",
    "ax.yaxis.set_major_formatter(FuncFormatter(mil))\n",
    "plt.bar(total_da_compra_mes.index, total_da_compra_mes.values, color='lightblue')\n",
    "plt.xlabel(\"Mês\")\n",
    "plt.ylabel(\"Total de venda(R$)\")\n",
    "plt.title(\"VALOR DE VENDA TOTAL POR MÊS\", fontsize=14, weight='bold')\n",
    "plt.xticks(rotation=60, fontsize='small')\n",
    "plt.yticks(fontsize='small');"
   ]
  },
  {
   "cell_type": "markdown",
   "metadata": {
    "id": "-TAxgAxkwSXG"
   },
   "source": [
    "- Valor de venda total por mês e por país (considere apenas os top 10)"
   ]
  },
  {
   "cell_type": "code",
   "source": [
    "# .."
   ],
   "metadata": {
    "id": "cc8SKDZxBEUT"
   },
   "execution_count": 325,
   "outputs": []
  },
  {
   "cell_type": "code",
   "source": [
    "from google.colab import drive\n",
    "drive.mount('/content/drive')"
   ],
   "metadata": {
    "id": "wa2SH_LG7dHG"
   },
   "execution_count": null,
   "outputs": []
  },
  {
   "cell_type": "markdown",
   "metadata": {
    "id": "ascN9bNmz_7N"
   },
   "source": [
    "#Etapa 10) Cálculo do RFM\n",
    "- Dica: Agrupe os dados por cliente e pedido/compra (InvoiceNo) e\n",
    "obtenha a data e o preço total do pedido.\n",
    "- Com isso, agrupe novamente apenas por cliente e calcule o RFM, onde:\n",
    "- R é a recência, diferença em dias da última compra do cliente e da\n",
    "última compra disponível no conjunto de dados, que calcularam\n",
    "previamente.\n",
    "- F é a frequência, ou seja, a quantidade de compras feitas pelo\n",
    "cliente;\n",
    "- M é o ticket médio, ou seja, a média das compras feitas pelo cliente.\n"
   ]
  },
  {
   "cell_type": "code",
   "source": [
    "rfm = df.groupby(['InvoiceNo']).agg({'InvoiceDate': lambda x : (dia_do_hit - x.max()).days, 'InvoiceNo':'count','total_da_compra': 'sum'})\n",
    "rfm.columns = ['R', 'F', 'M']\n",
    "display(rfm)"
   ],
   "metadata": {
    "id": "cno8UhqPhIxW",
    "colab": {
     "base_uri": "https://localhost:8080/",
     "height": 455
    },
    "outputId": "37ce6247-9b49-4b42-b24b-e3a5e7cbbfe6"
   },
   "execution_count": 311,
   "outputs": [
    {
     "output_type": "display_data",
     "data": {
      "text/plain": [
       "             R   F       M\n",
       "InvoiceNo                 \n",
       "536365     374   7  139.12\n",
       "536366     374   2   22.20\n",
       "536367     374  12  278.73\n",
       "536368     374   4   70.05\n",
       "536369     374   1   17.85\n",
       "...        ...  ..     ...\n",
       "581583       1   2  124.60\n",
       "581584       1   2  140.64\n",
       "581585       1  21  329.05\n",
       "581586       1   4  339.20\n",
       "581587       1  15  249.45\n",
       "\n",
       "[18529 rows x 3 columns]"
      ],
      "text/html": [
       "\n",
       "  <div id=\"df-4e3d28b9-61eb-4a36-a6f9-a4b225abeb60\" class=\"colab-df-container\">\n",
       "    <div>\n",
       "<style scoped>\n",
       "    .dataframe tbody tr th:only-of-type {\n",
       "        vertical-align: middle;\n",
       "    }\n",
       "\n",
       "    .dataframe tbody tr th {\n",
       "        vertical-align: top;\n",
       "    }\n",
       "\n",
       "    .dataframe thead th {\n",
       "        text-align: right;\n",
       "    }\n",
       "</style>\n",
       "<table border=\"1\" class=\"dataframe\">\n",
       "  <thead>\n",
       "    <tr style=\"text-align: right;\">\n",
       "      <th></th>\n",
       "      <th>R</th>\n",
       "      <th>F</th>\n",
       "      <th>M</th>\n",
       "    </tr>\n",
       "    <tr>\n",
       "      <th>InvoiceNo</th>\n",
       "      <th></th>\n",
       "      <th></th>\n",
       "      <th></th>\n",
       "    </tr>\n",
       "  </thead>\n",
       "  <tbody>\n",
       "    <tr>\n",
       "      <th>536365</th>\n",
       "      <td>374</td>\n",
       "      <td>7</td>\n",
       "      <td>139.12</td>\n",
       "    </tr>\n",
       "    <tr>\n",
       "      <th>536366</th>\n",
       "      <td>374</td>\n",
       "      <td>2</td>\n",
       "      <td>22.20</td>\n",
       "    </tr>\n",
       "    <tr>\n",
       "      <th>536367</th>\n",
       "      <td>374</td>\n",
       "      <td>12</td>\n",
       "      <td>278.73</td>\n",
       "    </tr>\n",
       "    <tr>\n",
       "      <th>536368</th>\n",
       "      <td>374</td>\n",
       "      <td>4</td>\n",
       "      <td>70.05</td>\n",
       "    </tr>\n",
       "    <tr>\n",
       "      <th>536369</th>\n",
       "      <td>374</td>\n",
       "      <td>1</td>\n",
       "      <td>17.85</td>\n",
       "    </tr>\n",
       "    <tr>\n",
       "      <th>...</th>\n",
       "      <td>...</td>\n",
       "      <td>...</td>\n",
       "      <td>...</td>\n",
       "    </tr>\n",
       "    <tr>\n",
       "      <th>581583</th>\n",
       "      <td>1</td>\n",
       "      <td>2</td>\n",
       "      <td>124.60</td>\n",
       "    </tr>\n",
       "    <tr>\n",
       "      <th>581584</th>\n",
       "      <td>1</td>\n",
       "      <td>2</td>\n",
       "      <td>140.64</td>\n",
       "    </tr>\n",
       "    <tr>\n",
       "      <th>581585</th>\n",
       "      <td>1</td>\n",
       "      <td>21</td>\n",
       "      <td>329.05</td>\n",
       "    </tr>\n",
       "    <tr>\n",
       "      <th>581586</th>\n",
       "      <td>1</td>\n",
       "      <td>4</td>\n",
       "      <td>339.20</td>\n",
       "    </tr>\n",
       "    <tr>\n",
       "      <th>581587</th>\n",
       "      <td>1</td>\n",
       "      <td>15</td>\n",
       "      <td>249.45</td>\n",
       "    </tr>\n",
       "  </tbody>\n",
       "</table>\n",
       "<p>18529 rows × 3 columns</p>\n",
       "</div>\n",
       "    <div class=\"colab-df-buttons\">\n",
       "\n",
       "  <div class=\"colab-df-container\">\n",
       "    <button class=\"colab-df-convert\" onclick=\"convertToInteractive('df-4e3d28b9-61eb-4a36-a6f9-a4b225abeb60')\"\n",
       "            title=\"Convert this dataframe to an interactive table.\"\n",
       "            style=\"display:none;\">\n",
       "\n",
       "  <svg xmlns=\"http://www.w3.org/2000/svg\" height=\"24px\" viewBox=\"0 -960 960 960\">\n",
       "    <path d=\"M120-120v-720h720v720H120Zm60-500h600v-160H180v160Zm220 220h160v-160H400v160Zm0 220h160v-160H400v160ZM180-400h160v-160H180v160Zm440 0h160v-160H620v160ZM180-180h160v-160H180v160Zm440 0h160v-160H620v160Z\"/>\n",
       "  </svg>\n",
       "    </button>\n",
       "\n",
       "  <style>\n",
       "    .colab-df-container {\n",
       "      display:flex;\n",
       "      gap: 12px;\n",
       "    }\n",
       "\n",
       "    .colab-df-convert {\n",
       "      background-color: #E8F0FE;\n",
       "      border: none;\n",
       "      border-radius: 50%;\n",
       "      cursor: pointer;\n",
       "      display: none;\n",
       "      fill: #1967D2;\n",
       "      height: 32px;\n",
       "      padding: 0 0 0 0;\n",
       "      width: 32px;\n",
       "    }\n",
       "\n",
       "    .colab-df-convert:hover {\n",
       "      background-color: #E2EBFA;\n",
       "      box-shadow: 0px 1px 2px rgba(60, 64, 67, 0.3), 0px 1px 3px 1px rgba(60, 64, 67, 0.15);\n",
       "      fill: #174EA6;\n",
       "    }\n",
       "\n",
       "    .colab-df-buttons div {\n",
       "      margin-bottom: 4px;\n",
       "    }\n",
       "\n",
       "    [theme=dark] .colab-df-convert {\n",
       "      background-color: #3B4455;\n",
       "      fill: #D2E3FC;\n",
       "    }\n",
       "\n",
       "    [theme=dark] .colab-df-convert:hover {\n",
       "      background-color: #434B5C;\n",
       "      box-shadow: 0px 1px 3px 1px rgba(0, 0, 0, 0.15);\n",
       "      filter: drop-shadow(0px 1px 2px rgba(0, 0, 0, 0.3));\n",
       "      fill: #FFFFFF;\n",
       "    }\n",
       "  </style>\n",
       "\n",
       "    <script>\n",
       "      const buttonEl =\n",
       "        document.querySelector('#df-4e3d28b9-61eb-4a36-a6f9-a4b225abeb60 button.colab-df-convert');\n",
       "      buttonEl.style.display =\n",
       "        google.colab.kernel.accessAllowed ? 'block' : 'none';\n",
       "\n",
       "      async function convertToInteractive(key) {\n",
       "        const element = document.querySelector('#df-4e3d28b9-61eb-4a36-a6f9-a4b225abeb60');\n",
       "        const dataTable =\n",
       "          await google.colab.kernel.invokeFunction('convertToInteractive',\n",
       "                                                    [key], {});\n",
       "        if (!dataTable) return;\n",
       "\n",
       "        const docLinkHtml = 'Like what you see? Visit the ' +\n",
       "          '<a target=\"_blank\" href=https://colab.research.google.com/notebooks/data_table.ipynb>data table notebook</a>'\n",
       "          + ' to learn more about interactive tables.';\n",
       "        element.innerHTML = '';\n",
       "        dataTable['output_type'] = 'display_data';\n",
       "        await google.colab.output.renderOutput(dataTable, element);\n",
       "        const docLink = document.createElement('div');\n",
       "        docLink.innerHTML = docLinkHtml;\n",
       "        element.appendChild(docLink);\n",
       "      }\n",
       "    </script>\n",
       "  </div>\n",
       "\n",
       "\n",
       "<div id=\"df-f70176db-6f95-4e12-a114-8a55aa8771fc\">\n",
       "  <button class=\"colab-df-quickchart\" onclick=\"quickchart('df-f70176db-6f95-4e12-a114-8a55aa8771fc')\"\n",
       "            title=\"Suggest charts\"\n",
       "            style=\"display:none;\">\n",
       "\n",
       "<svg xmlns=\"http://www.w3.org/2000/svg\" height=\"24px\"viewBox=\"0 0 24 24\"\n",
       "     width=\"24px\">\n",
       "    <g>\n",
       "        <path d=\"M19 3H5c-1.1 0-2 .9-2 2v14c0 1.1.9 2 2 2h14c1.1 0 2-.9 2-2V5c0-1.1-.9-2-2-2zM9 17H7v-7h2v7zm4 0h-2V7h2v10zm4 0h-2v-4h2v4z\"/>\n",
       "    </g>\n",
       "</svg>\n",
       "  </button>\n",
       "\n",
       "<style>\n",
       "  .colab-df-quickchart {\n",
       "      --bg-color: #E8F0FE;\n",
       "      --fill-color: #1967D2;\n",
       "      --hover-bg-color: #E2EBFA;\n",
       "      --hover-fill-color: #174EA6;\n",
       "      --disabled-fill-color: #AAA;\n",
       "      --disabled-bg-color: #DDD;\n",
       "  }\n",
       "\n",
       "  [theme=dark] .colab-df-quickchart {\n",
       "      --bg-color: #3B4455;\n",
       "      --fill-color: #D2E3FC;\n",
       "      --hover-bg-color: #434B5C;\n",
       "      --hover-fill-color: #FFFFFF;\n",
       "      --disabled-bg-color: #3B4455;\n",
       "      --disabled-fill-color: #666;\n",
       "  }\n",
       "\n",
       "  .colab-df-quickchart {\n",
       "    background-color: var(--bg-color);\n",
       "    border: none;\n",
       "    border-radius: 50%;\n",
       "    cursor: pointer;\n",
       "    display: none;\n",
       "    fill: var(--fill-color);\n",
       "    height: 32px;\n",
       "    padding: 0;\n",
       "    width: 32px;\n",
       "  }\n",
       "\n",
       "  .colab-df-quickchart:hover {\n",
       "    background-color: var(--hover-bg-color);\n",
       "    box-shadow: 0 1px 2px rgba(60, 64, 67, 0.3), 0 1px 3px 1px rgba(60, 64, 67, 0.15);\n",
       "    fill: var(--button-hover-fill-color);\n",
       "  }\n",
       "\n",
       "  .colab-df-quickchart-complete:disabled,\n",
       "  .colab-df-quickchart-complete:disabled:hover {\n",
       "    background-color: var(--disabled-bg-color);\n",
       "    fill: var(--disabled-fill-color);\n",
       "    box-shadow: none;\n",
       "  }\n",
       "\n",
       "  .colab-df-spinner {\n",
       "    border: 2px solid var(--fill-color);\n",
       "    border-color: transparent;\n",
       "    border-bottom-color: var(--fill-color);\n",
       "    animation:\n",
       "      spin 1s steps(1) infinite;\n",
       "  }\n",
       "\n",
       "  @keyframes spin {\n",
       "    0% {\n",
       "      border-color: transparent;\n",
       "      border-bottom-color: var(--fill-color);\n",
       "      border-left-color: var(--fill-color);\n",
       "    }\n",
       "    20% {\n",
       "      border-color: transparent;\n",
       "      border-left-color: var(--fill-color);\n",
       "      border-top-color: var(--fill-color);\n",
       "    }\n",
       "    30% {\n",
       "      border-color: transparent;\n",
       "      border-left-color: var(--fill-color);\n",
       "      border-top-color: var(--fill-color);\n",
       "      border-right-color: var(--fill-color);\n",
       "    }\n",
       "    40% {\n",
       "      border-color: transparent;\n",
       "      border-right-color: var(--fill-color);\n",
       "      border-top-color: var(--fill-color);\n",
       "    }\n",
       "    60% {\n",
       "      border-color: transparent;\n",
       "      border-right-color: var(--fill-color);\n",
       "    }\n",
       "    80% {\n",
       "      border-color: transparent;\n",
       "      border-right-color: var(--fill-color);\n",
       "      border-bottom-color: var(--fill-color);\n",
       "    }\n",
       "    90% {\n",
       "      border-color: transparent;\n",
       "      border-bottom-color: var(--fill-color);\n",
       "    }\n",
       "  }\n",
       "</style>\n",
       "\n",
       "  <script>\n",
       "    async function quickchart(key) {\n",
       "      const quickchartButtonEl =\n",
       "        document.querySelector('#' + key + ' button');\n",
       "      quickchartButtonEl.disabled = true;  // To prevent multiple clicks.\n",
       "      quickchartButtonEl.classList.add('colab-df-spinner');\n",
       "      try {\n",
       "        const charts = await google.colab.kernel.invokeFunction(\n",
       "            'suggestCharts', [key], {});\n",
       "      } catch (error) {\n",
       "        console.error('Error during call to suggestCharts:', error);\n",
       "      }\n",
       "      quickchartButtonEl.classList.remove('colab-df-spinner');\n",
       "      quickchartButtonEl.classList.add('colab-df-quickchart-complete');\n",
       "    }\n",
       "    (() => {\n",
       "      let quickchartButtonEl =\n",
       "        document.querySelector('#df-f70176db-6f95-4e12-a114-8a55aa8771fc button');\n",
       "      quickchartButtonEl.style.display =\n",
       "        google.colab.kernel.accessAllowed ? 'block' : 'none';\n",
       "    })();\n",
       "  </script>\n",
       "</div>\n",
       "\n",
       "  <div id=\"id_1b1fa3b3-6b0b-426f-8fae-33351e592a45\">\n",
       "    <style>\n",
       "      .colab-df-generate {\n",
       "        background-color: #E8F0FE;\n",
       "        border: none;\n",
       "        border-radius: 50%;\n",
       "        cursor: pointer;\n",
       "        display: none;\n",
       "        fill: #1967D2;\n",
       "        height: 32px;\n",
       "        padding: 0 0 0 0;\n",
       "        width: 32px;\n",
       "      }\n",
       "\n",
       "      .colab-df-generate:hover {\n",
       "        background-color: #E2EBFA;\n",
       "        box-shadow: 0px 1px 2px rgba(60, 64, 67, 0.3), 0px 1px 3px 1px rgba(60, 64, 67, 0.15);\n",
       "        fill: #174EA6;\n",
       "      }\n",
       "\n",
       "      [theme=dark] .colab-df-generate {\n",
       "        background-color: #3B4455;\n",
       "        fill: #D2E3FC;\n",
       "      }\n",
       "\n",
       "      [theme=dark] .colab-df-generate:hover {\n",
       "        background-color: #434B5C;\n",
       "        box-shadow: 0px 1px 3px 1px rgba(0, 0, 0, 0.15);\n",
       "        filter: drop-shadow(0px 1px 2px rgba(0, 0, 0, 0.3));\n",
       "        fill: #FFFFFF;\n",
       "      }\n",
       "    </style>\n",
       "    <button class=\"colab-df-generate\" onclick=\"generateWithVariable('rfm')\"\n",
       "            title=\"Generate code using this dataframe.\"\n",
       "            style=\"display:none;\">\n",
       "\n",
       "  <svg xmlns=\"http://www.w3.org/2000/svg\" height=\"24px\"viewBox=\"0 0 24 24\"\n",
       "       width=\"24px\">\n",
       "    <path d=\"M7,19H8.4L18.45,9,17,7.55,7,17.6ZM5,21V16.75L18.45,3.32a2,2,0,0,1,2.83,0l1.4,1.43a1.91,1.91,0,0,1,.58,1.4,1.91,1.91,0,0,1-.58,1.4L9.25,21ZM18.45,9,17,7.55Zm-12,3A5.31,5.31,0,0,0,4.9,8.1,5.31,5.31,0,0,0,1,6.5,5.31,5.31,0,0,0,4.9,4.9,5.31,5.31,0,0,0,6.5,1,5.31,5.31,0,0,0,8.1,4.9,5.31,5.31,0,0,0,12,6.5,5.46,5.46,0,0,0,6.5,12Z\"/>\n",
       "  </svg>\n",
       "    </button>\n",
       "    <script>\n",
       "      (() => {\n",
       "      const buttonEl =\n",
       "        document.querySelector('#id_1b1fa3b3-6b0b-426f-8fae-33351e592a45 button.colab-df-generate');\n",
       "      buttonEl.style.display =\n",
       "        google.colab.kernel.accessAllowed ? 'block' : 'none';\n",
       "\n",
       "      buttonEl.onclick = () => {\n",
       "        google.colab.notebook.generateWithVariable('rfm');\n",
       "      }\n",
       "      })();\n",
       "    </script>\n",
       "  </div>\n",
       "\n",
       "    </div>\n",
       "  </div>\n"
      ],
      "application/vnd.google.colaboratory.intrinsic+json": {
       "type": "dataframe",
       "variable_name": "rfm",
       "summary": "{\n  \"name\": \"rfm\",\n  \"rows\": 18529,\n  \"fields\": [\n    {\n      \"column\": \"InvoiceNo\",\n      \"properties\": {\n        \"dtype\": \"string\",\n        \"num_unique_values\": 18529,\n        \"samples\": [\n          \"562598\",\n          \"555635\",\n          \"569631\"\n        ],\n        \"semantic_type\": \"\",\n        \"description\": \"\"\n      }\n    },\n    {\n      \"column\": \"R\",\n      \"properties\": {\n        \"dtype\": \"number\",\n        \"std\": 112,\n        \"min\": 1,\n        \"max\": 374,\n        \"num_unique_values\": 360,\n        \"samples\": [\n          136,\n          322,\n          75\n        ],\n        \"semantic_type\": \"\",\n        \"description\": \"\"\n      }\n    },\n    {\n      \"column\": \"F\",\n      \"properties\": {\n        \"dtype\": \"number\",\n        \"std\": 24,\n        \"min\": 1,\n        \"max\": 542,\n        \"num_unique_values\": 198,\n        \"samples\": [\n          30,\n          125,\n          18\n        ],\n        \"semantic_type\": \"\",\n        \"description\": \"\"\n      }\n    },\n    {\n      \"column\": \"M\",\n      \"properties\": {\n        \"dtype\": \"number\",\n        \"std\": 986.0932001064325,\n        \"min\": 0.38,\n        \"max\": 38970.0,\n        \"num_unique_values\": 15293,\n        \"samples\": [\n          775.0,\n          384.68,\n          650.1\n        ],\n        \"semantic_type\": \"\",\n        \"description\": \"\"\n      }\n    }\n  ]\n}"
      }
     },
     "metadata": {}
    }
   ]
  },
  {
   "cell_type": "code",
   "source": [],
   "metadata": {
    "id": "prLnuNRtthVp"
   },
   "execution_count": null,
   "outputs": []
  }
 ],
 "metadata": {
  "colab": {
   "provenance": []
  },
  "kernelspec": {
   "display_name": "Python 3",
   "name": "python3"
  },
  "language_info": {
   "name": "python"
  }
 },
 "nbformat": 4,
 "nbformat_minor": 0
}
